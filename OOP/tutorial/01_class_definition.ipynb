{
 "cells": [
  {
   "cell_type": "markdown",
   "metadata": {},
   "source": [
    "### Prázdná třída a instance třídy"
   ]
  },
  {
   "cell_type": "code",
   "execution_count": 1,
   "metadata": {},
   "outputs": [
    {
     "name": "stdout",
     "output_type": "stream",
     "text": [
      "<__main__.Point object at 0x0000019093D8B170> <__main__.Point object at 0x000001909291A600>\n"
     ]
    }
   ],
   "source": [
    "class Point:\n",
    "    pass # tělo třídy je prázdné\n",
    "\n",
    "p = Point() # vytvoření instance p třídy Point\n",
    "q = Point()\n",
    "print(p, q)"
   ]
  },
  {
   "cell_type": "markdown",
   "metadata": {},
   "source": [
    "### Statické vlastnosti třídy"
   ]
  },
  {
   "cell_type": "code",
   "execution_count": 14,
   "metadata": {},
   "outputs": [
    {
     "name": "stdout",
     "output_type": "stream",
     "text": [
      "0 2\n",
      "17 0\n"
     ]
    }
   ],
   "source": [
    "class Point:\n",
    "    x = 0 # statická vlastnost x třídy Point\n",
    "    y = 2\n",
    "    \n",
    "print(Point.x, Point.y)\n"
   ]
  },
  {
   "cell_type": "markdown",
   "metadata": {},
   "source": [
    "### Změna statické vlastnosti třídy"
   ]
  },
  {
   "cell_type": "code",
   "execution_count": 5,
   "metadata": {},
   "outputs": [
    {
     "name": "stdout",
     "output_type": "stream",
     "text": [
      "1 1\n"
     ]
    }
   ],
   "source": [
    "class Point:\n",
    "    x = 0\n",
    "    y = 2\n",
    "\n",
    "p, q = Point(), Point()\n",
    "Point.x += 1 # změna hodnoty statické vlastnosti třídy Point\n",
    "print(p.x, q.x)"
   ]
  },
  {
   "cell_type": "markdown",
   "metadata": {},
   "source": [
    "### Magická metoda \\_\\_init\\_\\_ "
   ]
  },
  {
   "cell_type": "code",
   "execution_count": 2,
   "metadata": {},
   "outputs": [
    {
     "name": "stdout",
     "output_type": "stream",
     "text": [
      "[0, 0]\n",
      "[0, 2]\n",
      "[3, 5]\n"
     ]
    }
   ],
   "source": [
    "class Point:\n",
    "    \n",
    "    def __init__(self, xcoord = 0, ycoord = 0):\n",
    "        self.x = xcoord # klíčové slovo self je referencí na aktuální instanci třídy\n",
    "        self.y = ycoord\n",
    "        \n",
    "o = Point()\n",
    "p = Point(0, 2) # vytvoření instance p třídy Point\n",
    "q = Point(3, 5)\n",
    "print(f\"[{o.x}, {o.y}]\")\n",
    "print(f\"[{p.x}, {p.y}]\")\n",
    "print(f\"[{q.x}, {q.y}]\")"
   ]
  },
  {
   "cell_type": "markdown",
   "metadata": {},
   "source": [
    "### Magická metoda \\_\\_str\\_\\_"
   ]
  },
  {
   "cell_type": "code",
   "execution_count": 10,
   "metadata": {},
   "outputs": [
    {
     "name": "stdout",
     "output_type": "stream",
     "text": [
      "[0, 2]\n",
      "[3, 5]\n"
     ]
    }
   ],
   "source": [
    "class Point:\n",
    "    \n",
    "    def __init__(self, xcoord, ycoord):\n",
    "        self.x = xcoord\n",
    "        self.y = ycoord\n",
    "        \n",
    "    def __str__(self): # Magická metoda __str__ vrací hodnotu typu str při volání instance třídy jejím názvem.\n",
    "        return f\"[{self.x}, {self.y}]\"\n",
    "\n",
    "p = Point(0, 2)\n",
    "q = Point(3, 5)\n",
    "print(p)\n",
    "print(q)"
   ]
  },
  {
   "cell_type": "markdown",
   "metadata": {},
   "source": [
    "### Reference na objekt"
   ]
  },
  {
   "cell_type": "code",
   "execution_count": 18,
   "metadata": {},
   "outputs": [
    {
     "name": "stdout",
     "output_type": "stream",
     "text": [
      "[25, 2]\n",
      "[25, 2]\n"
     ]
    }
   ],
   "source": [
    "class Point:\n",
    "    \n",
    "    def __init__(self, xcoord, ycoord):\n",
    "        self.x = xcoord\n",
    "        self.y = ycoord\n",
    "        \n",
    "    def __str__(self):\n",
    "        return f\"[{self.x}, {self.y}]\"\n",
    "\n",
    "p = Point(0, 2)\n",
    "q = p # p a q jsou reference na stejný objekt, nejedná se o vytvoření kopie\n",
    "q.x = 25\n",
    "print(p)\n",
    "pis = print\n",
    "pis(p)"
   ]
  },
  {
   "cell_type": "markdown",
   "metadata": {},
   "source": [
    "### Settery - metody pro nastavení hodnot vlastností"
   ]
  },
  {
   "cell_type": "code",
   "execution_count": 3,
   "metadata": {},
   "outputs": [
    {
     "name": "stdout",
     "output_type": "stream",
     "text": [
      "[0, 2]\n",
      "[3, 2]\n",
      "[3, 7]\n"
     ]
    },
    {
     "ename": "KeyError",
     "evalue": "'new_x'",
     "output_type": "error",
     "traceback": [
      "\u001b[1;31m---------------------------------------------------------------------------\u001b[0m",
      "\u001b[1;31mKeyError\u001b[0m                                  Traceback (most recent call last)",
      "Cell \u001b[1;32mIn[3], line 29\u001b[0m\n\u001b[0;32m     26\u001b[0m p\u001b[38;5;241m.\u001b[39mset_y(\u001b[38;5;241m7\u001b[39m)\n\u001b[0;32m     27\u001b[0m \u001b[38;5;28mprint\u001b[39m(p)\n\u001b[1;32m---> 29\u001b[0m \u001b[43mp\u001b[49m\u001b[38;5;241;43m.\u001b[39;49m\u001b[43mset_coords\u001b[49m\u001b[43m(\u001b[49m\u001b[43my\u001b[49m\u001b[38;5;241;43m=\u001b[39;49m\u001b[38;5;241;43m2\u001b[39;49m\u001b[43m,\u001b[49m\u001b[43m \u001b[49m\u001b[43mx\u001b[49m\u001b[38;5;241;43m=\u001b[39;49m\u001b[38;5;241;43m9\u001b[39;49m\u001b[43m)\u001b[49m\n\u001b[0;32m     30\u001b[0m \u001b[38;5;28mprint\u001b[39m(p)\n",
      "Cell \u001b[1;32mIn[3], line 17\u001b[0m, in \u001b[0;36mPoint.set_coords\u001b[1;34m(self, **kwargs)\u001b[0m\n\u001b[0;32m     16\u001b[0m \u001b[38;5;28;01mdef\u001b[39;00m \u001b[38;5;21mset_coords\u001b[39m(\u001b[38;5;28mself\u001b[39m, \u001b[38;5;241m*\u001b[39m\u001b[38;5;241m*\u001b[39mkwargs):\n\u001b[1;32m---> 17\u001b[0m     \u001b[38;5;28mself\u001b[39m\u001b[38;5;241m.\u001b[39mset_x(\u001b[43mkwargs\u001b[49m\u001b[43m[\u001b[49m\u001b[38;5;124;43m\"\u001b[39;49m\u001b[38;5;124;43mnew_x\u001b[39;49m\u001b[38;5;124;43m\"\u001b[39;49m\u001b[43m]\u001b[49m)\n\u001b[0;32m     18\u001b[0m     \u001b[38;5;28mself\u001b[39m\u001b[38;5;241m.\u001b[39mset_y(kwargs[\u001b[38;5;124m\"\u001b[39m\u001b[38;5;124mnew_y\u001b[39m\u001b[38;5;124m\"\u001b[39m])\n",
      "\u001b[1;31mKeyError\u001b[0m: 'new_x'"
     ]
    }
   ],
   "source": [
    "class Point:\n",
    "    \n",
    "    def __init__(self, **kwargs):\n",
    "        self.x = kwargs[\"x\"]\n",
    "        self.y = kwargs[\"y\"]\n",
    "        \n",
    "    def __str__(self):\n",
    "        return f\"[{self.x}, {self.y}]\"\n",
    "\n",
    "    def set_x(self, new_xcoord):\n",
    "        self.x = new_xcoord\n",
    "\n",
    "    def set_y(self, new_ycoord):\n",
    "        self.y = new_ycoord\n",
    "    \n",
    "    def set_coords(self, **kwargs):\n",
    "        self.set_x(kwargs[\"x\"])\n",
    "        self.set_y(kwargs[\"y\"])    \n",
    "\n",
    "p = Point(x=0, y=2)\n",
    "print(p)\n",
    "\n",
    "p.set_x(3)\n",
    "print(p)\n",
    "\n",
    "p.set_y(7)\n",
    "print(p)\n",
    "\n",
    "p.set_coords(y=2, x=9)\n",
    "print(p)"
   ]
  },
  {
   "cell_type": "markdown",
   "metadata": {},
   "source": [
    "### Gettery - pro získání hodnot vlastností"
   ]
  },
  {
   "cell_type": "code",
   "execution_count": 19,
   "metadata": {},
   "outputs": [
    {
     "name": "stdout",
     "output_type": "stream",
     "text": [
      "0\n",
      "2\n",
      "[0, 2]\n"
     ]
    }
   ],
   "source": [
    "class Point:\n",
    "    \n",
    "    def __init__(self, xcoord, ycoord):\n",
    "        self.x = xcoord\n",
    "        self.y = ycoord\n",
    "        \n",
    "    def __str__(self):\n",
    "        return f\"[{self.x}, {self.y}]\"\n",
    "\n",
    "    def get_x(self):\n",
    "        return self.x\n",
    "\n",
    "    def get_y(self):\n",
    "        return self.y\n",
    "    \n",
    "    def get_coords(self):\n",
    "        return [self.x, self.y]\n",
    "        \n",
    "p = Point(0, 2)\n",
    "print(p.get_x())\n",
    "print(p.get_y())\n",
    "print(p.get_coords())"
   ]
  },
  {
   "cell_type": "code",
   "execution_count": 9,
   "metadata": {},
   "outputs": [
    {
     "name": "stdout",
     "output_type": "stream",
     "text": [
      "Egypťan Sinuhet, Mika Waltari, 300 Kč, rok: 2000\n"
     ]
    }
   ],
   "source": [
    "class Book:\n",
    "    \n",
    "    def __init__(self, name, author, price, year):\n",
    "        self.name = name\n",
    "        self.author = author\n",
    "        self.price = price\n",
    "        self.year = year\n",
    "        \n",
    "    def __str__(self):\n",
    "        return f\"{self.name}, {self.author}, {self.price} Kč, rok: {self.year}\"\n",
    "    \n",
    "b = Book(\"Egypťan Sinuhet\", \"Mika Waltari\", 300, 2000)\n",
    "c = Book(\"Malý Princ\", \"Antoine de Saint Exupery\", \"400\", 2010)\n",
    "print(b)\n",
    "print(c)"
   ]
  }
 ],
 "metadata": {
  "kernelspec": {
   "display_name": "Python 3",
   "language": "python",
   "name": "python3"
  },
  "language_info": {
   "codemirror_mode": {
    "name": "ipython",
    "version": 3
   },
   "file_extension": ".py",
   "mimetype": "text/x-python",
   "name": "python",
   "nbconvert_exporter": "python",
   "pygments_lexer": "ipython3",
   "version": "3.12.1"
  }
 },
 "nbformat": 4,
 "nbformat_minor": 2
}
