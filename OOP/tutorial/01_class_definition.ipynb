{
 "cells": [
  {
   "cell_type": "markdown",
   "metadata": {},
   "source": [
    "### Prázdná třída a instance třídy"
   ]
  },
  {
   "cell_type": "code",
   "execution_count": 1,
   "metadata": {},
   "outputs": [
    {
     "name": "stdout",
     "output_type": "stream",
     "text": [
      "<__main__.Point object at 0x000001948FFC56A0>\n"
     ]
    }
   ],
   "source": [
    "class Point:\n",
    "    pass # tělo třídy je prázdné\n",
    "\n",
    "p = Point() # vytvoření instance p třídy Point\n",
    "print(p)"
   ]
  },
  {
   "cell_type": "markdown",
   "metadata": {},
   "source": [
    "### Statické vlastnosti třídy"
   ]
  },
  {
   "cell_type": "code",
   "execution_count": 14,
   "metadata": {},
   "outputs": [
    {
     "name": "stdout",
     "output_type": "stream",
     "text": [
      "0 2\n",
      "17 0\n"
     ]
    }
   ],
   "source": [
    "class Point:\n",
    "    x = 0 # statická vlastnost x třídy Point\n",
    "    y = 2\n",
    "    \n",
    "print(Point.x, Point.y)\n"
   ]
  },
  {
   "cell_type": "markdown",
   "metadata": {},
   "source": [
    "### Změna statické vlastnosti třídy"
   ]
  },
  {
   "cell_type": "code",
   "execution_count": 5,
   "metadata": {},
   "outputs": [
    {
     "name": "stdout",
     "output_type": "stream",
     "text": [
      "1 1\n"
     ]
    }
   ],
   "source": [
    "class Point:\n",
    "    x = 0\n",
    "    y = 2\n",
    "\n",
    "p, q = Point(), Point()\n",
    "Point.x += 1 # změna hodnoty statické vlastnosti třídy Point\n",
    "print(p.x, q.x)"
   ]
  },
  {
   "cell_type": "markdown",
   "metadata": {},
   "source": [
    "### Magická metoda \\_\\_init\\_\\_ "
   ]
  },
  {
   "cell_type": "code",
   "execution_count": 15,
   "metadata": {},
   "outputs": [
    {
     "name": "stdout",
     "output_type": "stream",
     "text": [
      "[0, 0]\n",
      "[0, 2]\n",
      "[3, 5]\n"
     ]
    }
   ],
   "source": [
    "class Point:\n",
    "    \n",
    "    def __init__(self, xcoord = 0, ycoord = 0):\n",
    "        self.x = xcoord # klíčové slovo self je referencí na aktuální instanci třídy\n",
    "        self.y = ycoord\n",
    "        \n",
    "o = Point()\n",
    "p = Point(0, 2) # vytvoření instance p třídy Point\n",
    "q = Point(3, 5)\n",
    "print(f\"[{o.x}, {o.y}]\")\n",
    "print(f\"[{p.x}, {p.y}]\")\n",
    "print(f\"[{q.x}, {q.y}]\")"
   ]
  },
  {
   "cell_type": "markdown",
   "metadata": {},
   "source": [
    "### Magická metoda \\_\\_str\\_\\_"
   ]
  },
  {
   "cell_type": "code",
   "execution_count": 10,
   "metadata": {},
   "outputs": [
    {
     "name": "stdout",
     "output_type": "stream",
     "text": [
      "[0, 2]\n",
      "[3, 5]\n"
     ]
    }
   ],
   "source": [
    "class Point:\n",
    "    \n",
    "    def __init__(self, xcoord, ycoord):\n",
    "        self.x = xcoord\n",
    "        self.y = ycoord\n",
    "        \n",
    "    def __str__(self): # Magická metoda __str__ vrací hodnotu typu str při volání instance třídy jejím názvem.\n",
    "        return f\"[{self.x}, {self.y}]\"\n",
    "\n",
    "p = Point(0, 2)\n",
    "q = Point(3, 5)\n",
    "print(p)\n",
    "print(q)"
   ]
  },
  {
   "cell_type": "markdown",
   "metadata": {},
   "source": [
    "### Reference na objekt"
   ]
  },
  {
   "cell_type": "code",
   "execution_count": 18,
   "metadata": {},
   "outputs": [
    {
     "name": "stdout",
     "output_type": "stream",
     "text": [
      "[25, 2]\n",
      "[25, 2]\n"
     ]
    }
   ],
   "source": [
    "class Point:\n",
    "    \n",
    "    def __init__(self, xcoord, ycoord):\n",
    "        self.x = xcoord\n",
    "        self.y = ycoord\n",
    "        \n",
    "    def __str__(self):\n",
    "        return f\"[{self.x}, {self.y}]\"\n",
    "\n",
    "p = Point(0, 2)\n",
    "q = p # p a q jsou reference na stejný objekt, nejedná se o vytvoření kopie\n",
    "q.x = 25\n",
    "print(p)\n",
    "pis = print\n",
    "pis(p)"
   ]
  },
  {
   "cell_type": "markdown",
   "metadata": {},
   "source": [
    "### Settery - metody pro nastavení hodnot vlastností"
   ]
  },
  {
   "cell_type": "code",
   "execution_count": 17,
   "metadata": {},
   "outputs": [
    {
     "name": "stdout",
     "output_type": "stream",
     "text": [
      "[0, 2]\n",
      "[3, 2]\n",
      "[3, 7]\n",
      "[9, 2]\n"
     ]
    }
   ],
   "source": [
    "class Point:\n",
    "    \n",
    "    def __init__(self, xcoord, ycoord):\n",
    "        self.x = xcoord\n",
    "        self.y = ycoord\n",
    "        \n",
    "    def __str__(self):\n",
    "        return f\"[{self.x}, {self.y}]\"\n",
    "\n",
    "    def set_x(self, new_xcoord):\n",
    "        self.x = new_xcoord\n",
    "\n",
    "    def set_y(self, new_ycoord):\n",
    "        self.y = new_ycoord\n",
    "    \n",
    "    def set_coords(self, new_xcoord, new_ycoord):\n",
    "        self.set_x(new_xcoord)\n",
    "        self.set_y(new_ycoord)    \n",
    "\n",
    "p = Point(0, 2)\n",
    "print(p)\n",
    "\n",
    "p.set_x(3)\n",
    "print(p)\n",
    "\n",
    "p.set_y(7)\n",
    "print(p)\n",
    "\n",
    "p.set_coords(9, 2)\n",
    "print(p)"
   ]
  },
  {
   "cell_type": "markdown",
   "metadata": {},
   "source": [
    "### Gettery - pro získání hodnot vlastností"
   ]
  },
  {
   "cell_type": "code",
   "execution_count": 19,
   "metadata": {},
   "outputs": [
    {
     "name": "stdout",
     "output_type": "stream",
     "text": [
      "0\n",
      "2\n",
      "[0, 2]\n"
     ]
    }
   ],
   "source": [
    "class Point:\n",
    "    \n",
    "    def __init__(self, xcoord, ycoord):\n",
    "        self.x = xcoord\n",
    "        self.y = ycoord\n",
    "        \n",
    "    def __str__(self):\n",
    "        return f\"[{self.x}, {self.y}]\"\n",
    "\n",
    "    def get_x(self):\n",
    "        return self.x\n",
    "\n",
    "    def get_y(self):\n",
    "        return self.y\n",
    "    \n",
    "    def get_coords(self):\n",
    "        return [self.x, self.y]\n",
    "        \n",
    "p = Point(0, 2)\n",
    "print(p.get_x())\n",
    "print(p.get_y())\n",
    "print(p.get_coords())"
   ]
  },
  {
   "cell_type": "code",
   "execution_count": 9,
   "metadata": {},
   "outputs": [
    {
     "name": "stdout",
     "output_type": "stream",
     "text": [
      "Egypťan Sinuhet, Mika Waltari, 300 Kč, rok: 2000\n"
     ]
    }
   ],
   "source": [
    "class Book:\n",
    "    \n",
    "    def __init__(self, name, author, price, year):\n",
    "        self.name = name\n",
    "        self.author = author\n",
    "        self.price = price\n",
    "        self.year = year\n",
    "        \n",
    "    def __str__(self):\n",
    "        return f\"{self.name}, {self.author}, {self.price} Kč, rok: {self.year}\"\n",
    "    \n",
    "b = Book(\"Egypťan Sinuhet\", \"Mika Waltari\", 300, 2000)\n",
    "c = Book(\"Malý Princ\", \"Antoine de Saint Exupery\", \"400\", 2010)\n",
    "print(b)\n",
    "print(c)"
   ]
  }
 ],
 "metadata": {
  "kernelspec": {
   "display_name": "Python 3",
   "language": "python",
   "name": "python3"
  },
  "language_info": {
   "codemirror_mode": {
    "name": "ipython",
    "version": 3
   },
   "file_extension": ".py",
   "mimetype": "text/x-python",
   "name": "python",
   "nbconvert_exporter": "python",
   "pygments_lexer": "ipython3",
   "version": "3.12.1"
  }
 },
 "nbformat": 4,
 "nbformat_minor": 2
}
