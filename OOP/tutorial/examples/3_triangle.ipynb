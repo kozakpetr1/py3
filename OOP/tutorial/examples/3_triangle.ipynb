{
 "cells": [
  {
   "cell_type": "code",
   "execution_count": 7,
   "metadata": {},
   "outputs": [
    {
     "name": "stdout",
     "output_type": "stream",
     "text": [
      "[1,-2]\n",
      "[1,3][4,0]\n",
      "4.24\n"
     ]
    },
    {
     "data": {
      "text/plain": [
       "12.0"
      ]
     },
     "execution_count": 7,
     "metadata": {},
     "output_type": "execute_result"
    }
   ],
   "source": [
    "import os\n",
    "import math\n",
    "\n",
    "clear = lambda: os.system('cls')\n",
    "\n",
    "class Point:\n",
    "    \n",
    "    def __init__(self, x=0, y=0):\n",
    "        self.__x = x\n",
    "        self.__y = y\n",
    "\n",
    "    def setCoords(self, x, y):\n",
    "        self.__x = x\n",
    "        self.__y = y\n",
    "\n",
    "    def getX(self):\n",
    "        return self.__x\n",
    "\n",
    "    def getY(self):\n",
    "        return self.__y\n",
    "\n",
    "    def getCoords(self):\n",
    "        return (self.getX(), self.getY())\n",
    "\n",
    "    def __str__(self):\n",
    "        return f\"[{self.getX()},{self.getY()}]\"\n",
    "    \n",
    "class LineSegment:\n",
    "\n",
    "    def __init__(self, u=0, v=0, x=0, y=0):\n",
    "        self.__a = Point(u, v) # vytvoření instance třídy Point\n",
    "        self.__b = Point(x, y) # vytvoření instance třídy Point\n",
    "    \n",
    "    def setLineSegmentCoords(self, u, v, x, y):\n",
    "        self.__a.setCoords(u, v)\n",
    "        self.__b.setCoords(x, y)\n",
    "\n",
    "    def __str__(self):\n",
    "        return  f\"[{self.__a.getX()},{self.__a.getY()}][{self.__b.getX()},{self.__b.getY()}]\"\n",
    "\n",
    "    def getLineSegmentLength(self):\n",
    "        return math.sqrt(math.pow(self.__a.getX() - self.__b.getX(), 2) + math.pow(self.__a.getY() - self.__b.getY(), 2))\n",
    "    \n",
    "class Triangle:\n",
    "\n",
    "    def __init__(self, A: tuple = (0, 0), B: tuple = (0, 0), C: tuple = (0, 0)):\n",
    "        self.__A = Point(A[0], A[1])\n",
    "        self.__B = Point(B[0], B[1])\n",
    "        self.__C = Point(C[0], C[1])\n",
    "        self.__AB = LineSegment(A[0], A[1], B[0], B[1])\n",
    "        self.__AC = LineSegment(A[0], A[1], C[0], C[1])\n",
    "        self.__BC = LineSegment(B[0], B[1], C[0], C[1])\n",
    "        \n",
    "    \n",
    "    def setTriangleCoords(self, A: tuple, B: tuple, C: tuple):\n",
    "        self.__A.setCoords(A[0], A[1])\n",
    "        self.__B.setCoords(B[0], B[1])\n",
    "        self.__C.setCoords(C[0], C[1])\n",
    "        self.__AB.setLineSegmentCoords(A[0], A[1], B[0], B[1])\n",
    "        self.__AC.setLineSegmentCoords(A[0], A[1], C[0], C[1])\n",
    "        self.__BC.setLineSegmentCoords(B[0], B[1], C[0], C[1])\n",
    "\n",
    "    \n",
    "    def __str__(self):\n",
    "        return  f\"[{self.__A.getX()},{self.__A.getY()}][{self.__B.getX()},{self.__B.getY()}][{self.__C.getX()},{self.__C.getY()}]\"\n",
    "\n",
    "    def getTriangleLength(self): # obvod trojůhelníka\n",
    "        return self.__AB.getLineSegmentLength() + self.__AC.getLineSegmentLength() + self.__BC.getLineSegmentLength()\n",
    "\n",
    "clear()\n",
    "\n",
    "T = Triangle((0, 0), (0, 4), (3, 0))\n",
    "T.getTriangleLength()"
   ]
  },
  {
   "cell_type": "markdown",
   "metadata": {},
   "source": []
  },
  {
   "cell_type": "code",
   "execution_count": 45,
   "metadata": {},
   "outputs": [
    {
     "data": {
      "text/plain": [
       "12.0"
      ]
     },
     "execution_count": 45,
     "metadata": {},
     "output_type": "execute_result"
    }
   ],
   "source": [
    "import os\n",
    "import math\n",
    "\n",
    "clear = lambda: os.system('cls')\n",
    "\n",
    "class Point:\n",
    "    def __init__(self, p : tuple = (0, 0)):\n",
    "        (self.__x, self.__y) = p\n",
    "\n",
    "    def setCoords(self, p : tuple = (0, 0)):\n",
    "        (self.__x, self.__y) = p\n",
    "\n",
    "    def getX(self):\n",
    "        return self.__x\n",
    "\n",
    "    def getY(self):\n",
    "        return self.__y\n",
    "\n",
    "    def getCoords(self):\n",
    "        return (self.getX(), self.getY())\n",
    "\n",
    "    def __str__(self):\n",
    "        return f\"[{self.getX()},{self.getY()}]\"\n",
    "\n",
    "    def __sub__ (self, other):\n",
    "        return Point((self.getX() - other.getX(), self.getY() - other.getY()))\n",
    "\n",
    "    def __pow__(self, p):\n",
    "        return Point((self.getX() ** p, self.getY() ** p))\n",
    "\n",
    "    def __abs__(self):\n",
    "        d = self ** 2 # operátor ** volá magickou metodu __pow__\n",
    "        return (d.getX() + d.getY()) ** 0.5\n",
    "\n",
    "class Triangle:\n",
    "\n",
    "    def __init__(self, A: tuple = (0, 0), B: tuple = (0, 0), C: tuple = (0, 0)):\n",
    "        self.__A, self.__B, self.__C = Point(A), Point(B), Point(C)\n",
    "    \n",
    "    def setTriangleCoords(self, A: tuple = (0, 0), B: tuple = (0, 0), C: tuple = (0, 0)):\n",
    "        #    att.setCoords() for att, val in self.__dict__\n",
    "        #    print(self.__dict__)\n",
    "        self.__A.setCoords(A)\n",
    "        self.__B.setCoords(B)\n",
    "        self.__C.setCoords(C)\n",
    "\n",
    "    \n",
    "    def __str__(self):\n",
    "        return  f\"{self.__A}{self.__B}{self.__C}\"\n",
    "\n",
    "    def getTriangleLength(self): # obvod trojůhelníka\n",
    "        return abs(self.__A - self.__B) + abs(self.__A - self.__C) + abs(self.__B - self.__C) # operátor - volá magickou metodu __sub__\n",
    "\n",
    "clear()\n",
    "\n",
    "T = Triangle((0, 0), (0, 4), (3, 0))\n",
    "T.getTriangleLength()\n"
   ]
  }
 ],
 "metadata": {
  "kernelspec": {
   "display_name": "Python 3",
   "language": "python",
   "name": "python3"
  },
  "language_info": {
   "codemirror_mode": {
    "name": "ipython",
    "version": 3
   },
   "file_extension": ".py",
   "mimetype": "text/x-python",
   "name": "python",
   "nbconvert_exporter": "python",
   "pygments_lexer": "ipython3",
   "version": "3.10.4"
  }
 },
 "nbformat": 4,
 "nbformat_minor": 2
}
