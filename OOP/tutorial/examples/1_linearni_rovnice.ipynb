{
 "cells": [
  {
   "attachments": {},
   "cell_type": "markdown",
   "metadata": {},
   "source": [
    "Definice třídy **Linear** pro výpočet kořene lineární rovnice ve tvaru ax+b=0, kde a<>0."
   ]
  },
  {
   "cell_type": "code",
   "execution_count": 25,
   "metadata": {},
   "outputs": [
    {
     "name": "stdout",
     "output_type": "stream",
     "text": [
      "Řešením lineární rovnice ve tvaru 3x + -15 = 0 je x = 5.0.\n",
      "Chyba: Nejedná se o lineární rovnici, protože parametr a je roven 0.\n"
     ]
    }
   ],
   "source": [
    "class Linear:\n",
    "    \n",
    "    def __init__(self, a = 1, b = 0):\n",
    "        self.a = a\n",
    "        self.b = b\n",
    "    \n",
    "    def get_linear(self):\n",
    "        return -self.b/self.a\n",
    "    \n",
    "    def __str__(self):\n",
    "        try:\n",
    "            x = self.get_linear()\n",
    "        except ZeroDivisionError:\n",
    "            return \"Chyba: Nejedná se o lineární rovnici, protože parametr a je roven 0.\"\n",
    "        except:\n",
    "            return \"Chyba: Nastala neznámá chyba.\"\n",
    "        else:\n",
    "            return f\"Řešením lineární rovnice ve tvaru {self.a}x + {self.b} = 0 je x = {x}.\"\n",
    "    \n",
    "l = Linear(3, -15)\n",
    "print(l)\n",
    "\n",
    "k = Linear(0, 5)\n",
    "print(k)\n",
    "\n"
   ]
  }
 ],
 "metadata": {
  "kernelspec": {
   "display_name": "Python 3",
   "language": "python",
   "name": "python3"
  },
  "language_info": {
   "codemirror_mode": {
    "name": "ipython",
    "version": 3
   },
   "file_extension": ".py",
   "mimetype": "text/x-python",
   "name": "python",
   "nbconvert_exporter": "python",
   "pygments_lexer": "ipython3",
   "version": "3.10.4"
  },
  "orig_nbformat": 4
 },
 "nbformat": 4,
 "nbformat_minor": 2
}
