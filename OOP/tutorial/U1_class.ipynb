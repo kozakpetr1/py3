{
 "cells": [
  {
   "attachments": {},
   "cell_type": "markdown",
   "metadata": {},
   "source": [
    "**Třída - class**: Třídu deklarujeme pomocí klíčového slova *class* následovaného názvem třídy."
   ]
  },
  {
   "cell_type": "code",
   "execution_count": null,
   "metadata": {},
   "outputs": [],
   "source": [
    "class Polygon:\n",
    "    pass"
   ]
  },
  {
   "attachments": {},
   "cell_type": "markdown",
   "metadata": {},
   "source": [
    "**DocString**: Každou třídu je vhodné dokumentovat pomocí *dokumentačního komentáře*. "
   ]
  },
  {
   "cell_type": "code",
   "execution_count": null,
   "metadata": {},
   "outputs": [],
   "source": [
    "class Polygon:\n",
    "    '''\n",
    "    Třída polygon definuje obecný polygon o n hranách.\n",
    "    '''\n",
    "    \n",
    "    pass\n"
   ]
  },
  {
   "attachments": {},
   "cell_type": "markdown",
   "metadata": {},
   "source": [
    "**Deklarace metody uvnitř třídy** pomocí klíčového slova *def*. Parametr *self* je povinný. Třída *Polygon* je tzv. *abstraktní třída*.\n",
    "Ke schématickému vyjádření třídy lze použít tzv. **UML Class Diagram**.\\\n",
    "![alt text](polygon-uml-class-diagram-1.png \"UML Class Diagram\")"
   ]
  },
  {
   "cell_type": "code",
   "execution_count": null,
   "metadata": {},
   "outputs": [],
   "source": [
    "class Polygon:\n",
    "    '''\n",
    "    Třída polygon definuje obecný polygon o n hranách.\n",
    "    '''\n",
    "    \n",
    "    def num_of_sides(self):\n",
    "        pass"
   ]
  },
  {
   "attachments": {},
   "cell_type": "markdown",
   "metadata": {},
   "source": [
    "**DocString**: Každou metodu je vhodné dokumentovat pomocí *dokumentačního komentáře*. "
   ]
  },
  {
   "cell_type": "code",
   "execution_count": null,
   "metadata": {},
   "outputs": [],
   "source": [
    "class Polygon:\n",
    "    '''\n",
    "    Třída polygon definuje obecný polygon o n hranách.\n",
    "    '''\n",
    "    \n",
    "    def num_of_sides(self):\n",
    "        '''\n",
    "        Metoda zobrazi typ polygonu a počet hran.\n",
    "        '''\n",
    "        \n",
    "        pass"
   ]
  },
  {
   "attachments": {},
   "cell_type": "markdown",
   "metadata": {},
   "source": [
    "**Definice třídy Triangle jako potomka abstraktní třídy Polygon.** Třída *Triangle* dědí po tříde *Polygon* metodu *num_of_sides*.\\\n",
    "![alt text](polygon-uml-class-diagram-2.png \"UML Class Diagram\")"
   ]
  },
  {
   "cell_type": "code",
   "execution_count": null,
   "metadata": {},
   "outputs": [],
   "source": [
    "class Polygon:\n",
    "    '''\n",
    "    Třída polygon definuje obecný polygon o n hranách.\n",
    "    '''\n",
    "    \n",
    "    def num_of_sides(self):\n",
    "        '''\n",
    "        Metoda zobrazi typ polygonu a počet hran.\n",
    "        '''\n",
    "        \n",
    "        pass\n",
    "\n",
    "class Triangle(Polygon):\n",
    "    \n",
    "    def num_of_sides(self):\n",
    "        print(\"Ahoj, já jsem trojúhelník a mám tři hrany.\")\n"
   ]
  },
  {
   "attachments": {},
   "cell_type": "markdown",
   "metadata": {},
   "source": [
    "Vytvoření **instance třídy Triangle** a volání metody *num_of_sides()*."
   ]
  },
  {
   "cell_type": "code",
   "execution_count": 2,
   "metadata": {},
   "outputs": [
    {
     "name": "stdout",
     "output_type": "stream",
     "text": [
      "Ahoj, já jsem trojúhelník a mám tři hrany.\n"
     ]
    }
   ],
   "source": [
    "class Polygon:\n",
    "    '''\n",
    "    Třída polygon definuje obecný polygon o n hranách.\n",
    "    '''\n",
    "    \n",
    "    def num_of_sides(self):\n",
    "        '''\n",
    "        Metoda zobrazi typ polygonu a počet hran.\n",
    "        '''\n",
    "        \n",
    "        pass\n",
    "\n",
    "class Triangle(Polygon):\n",
    "    \n",
    "    def num_of_sides(self):\n",
    "        print(\"Ahoj, já jsem trojúhelník a mám tři hrany.\")\n",
    "\n",
    "my_triangle = Triangle()\n",
    "my_triangle.num_of_sides()"
   ]
  },
  {
   "attachments": {},
   "cell_type": "markdown",
   "metadata": {},
   "source": [
    "**Definice třídy Pentagon jako potomka abstraktní třídy Polygon.** Třída *Pentagon* dědí po tříde *Polygon* metodu *num_of_sides*. Vytvoření **instance třídy Pentagon** a volání metody *num_of_sides()*."
   ]
  },
  {
   "cell_type": "code",
   "execution_count": 3,
   "metadata": {},
   "outputs": [
    {
     "name": "stdout",
     "output_type": "stream",
     "text": [
      "Ahoj, já jsem trojúhelník a mám tři hrany.\n",
      "Ahoj, já jsem pentagon a mám pět stran.\n"
     ]
    }
   ],
   "source": [
    "class Polygon:\n",
    "    '''\n",
    "    Třída polygon definuje obecný polygon o n hranách.\n",
    "    '''\n",
    "    \n",
    "    def num_of_sides(self):\n",
    "        '''\n",
    "        Metoda zobrazi typ polygonu a počet hran.\n",
    "        '''\n",
    "        \n",
    "        pass\n",
    "\n",
    "class Triangle(Polygon):\n",
    "    \n",
    "    def num_of_sides(self):\n",
    "        print(\"Ahoj, já jsem trojúhelník a mám tři hrany.\")\n",
    "\n",
    "class Pentagon(Polygon):\n",
    "    \n",
    "    def num_of_sides(self):\n",
    "        print(\"Ahoj, já jsem pentagon a mám pět stran.\")\n",
    "\n",
    "my_triangle = Triangle()\n",
    "my_triangle.num_of_sides()\n",
    "\n",
    "my_pentagon = Pentagon()\n",
    "my_pentagon.num_of_sides()"
   ]
  },
  {
   "attachments": {},
   "cell_type": "markdown",
   "metadata": {},
   "source": [
    "**Definice třídy Rectangular_Triangle jako potomka třídy Triangle.** Třída *Pentagon* dědí po tříde *Triangle* metodu *num_of_sides*. Vytvoření **instance třídy Rectangular_Triangle** a volání metody *num_of_sides()*."
   ]
  },
  {
   "cell_type": "code",
   "execution_count": 5,
   "metadata": {},
   "outputs": [
    {
     "name": "stdout",
     "output_type": "stream",
     "text": [
      "Ahoj, já jsem trojúhelník a mám tři hrany.\n",
      "Ahoj, já jsem pravoúhlý trojúhelník a mám tři hrany.\n",
      "Ahoj, já jsem pentagon a mám pět stran.\n"
     ]
    }
   ],
   "source": [
    "class Polygon:\n",
    "    '''\n",
    "    Třída polygon definuje obecný polygon o n hranách.\n",
    "    '''\n",
    "    \n",
    "    def num_of_sides(self):\n",
    "        '''\n",
    "        Metoda zobrazi typ polygonu a počet hran.\n",
    "        '''\n",
    "        \n",
    "        pass\n",
    "\n",
    "class Triangle(Polygon):\n",
    "    \n",
    "    def num_of_sides(self):\n",
    "        print(\"Ahoj, já jsem trojúhelník a mám tři hrany.\")\n",
    "\n",
    "class Rectangular_Triangle(Triangle):\n",
    "    \n",
    "    def num_of_sides(self):\n",
    "        print(\"Ahoj, já jsem pravoúhlý trojúhelník a mám tři hrany.\")\n",
    "\n",
    "class Pentagon(Polygon):\n",
    "    \n",
    "    def num_of_sides(self):\n",
    "        print(\"Ahoj, já jsem pentagon a mám pět stran.\")\n",
    "\n",
    "my_triangle = Triangle()\n",
    "my_triangle.num_of_sides()\n",
    "\n",
    "my_rectangular_triangle = Rectangular_Triangle()\n",
    "my_rectangular_triangle.num_of_sides()\n",
    "\n",
    "my_pentagon = Pentagon()\n",
    "my_pentagon.num_of_sides()"
   ]
  },
  {
   "attachments": {},
   "cell_type": "markdown",
   "metadata": {},
   "source": [
    "**Statické počítadlo objektů**"
   ]
  },
  {
   "cell_type": "code",
   "execution_count": 42,
   "metadata": {},
   "outputs": [
    {
     "name": "stdout",
     "output_type": "stream",
     "text": [
      "Ahoj, já jsem trojúhelník a mám tři hrany.\n",
      "0\n",
      "Ahoj, já jsem pravoúhlý trojúhelník a mám tři hrany.\n",
      "0\n",
      "Ahoj, já jsem pentagon a mám pět stran.\n",
      "1\n",
      "0\n"
     ]
    }
   ],
   "source": [
    "class Polygon:\n",
    "    '''\n",
    "    Třída polygon definuje obecný polygon o n hranách.\n",
    "    '''\n",
    "    \n",
    "    amount_of_objects = 0;\n",
    "    \n",
    "    def __init__(self):\n",
    "        Polygon.amount_of_objects += 1\n",
    "\n",
    "    def __del__(self):\n",
    "        Polygon.amount_of_objects -= 1\n",
    "\n",
    "    def num_of_sides(self):\n",
    "        '''\n",
    "        Metoda zobrazi typ polygonu a počet hran.\n",
    "        '''\n",
    "        \n",
    "        pass\n",
    "\n",
    "class Triangle(Polygon):\n",
    "    \n",
    "    def num_of_sides(self):\n",
    "        print(\"Ahoj, já jsem trojúhelník a mám tři hrany.\")\n",
    "\n",
    "class Rectangular_Triangle(Triangle):\n",
    "    \n",
    "    def num_of_sides(self):\n",
    "        print(\"Ahoj, já jsem pravoúhlý trojúhelník a mám tři hrany.\")\n",
    "\n",
    "class Pentagon(Polygon):\n",
    "    \n",
    "    def num_of_sides(self):\n",
    "        print(\"Ahoj, já jsem pentagon a mám pět stran.\")\n",
    "\n",
    "my_triangle = Triangle()\n",
    "my_triangle.num_of_sides()\n",
    "print(Polygon.amount_of_objects)\n",
    "\n",
    "my_rectangular_triangle = Rectangular_Triangle()\n",
    "my_rectangular_triangle.num_of_sides()\n",
    "print(Polygon.amount_of_objects)\n",
    "\n",
    "my_pentagon = Pentagon()\n",
    "my_pentagon.num_of_sides()\n",
    "print(Polygon.amount_of_objects)\n",
    "\n",
    "del my_pentagon\n",
    "print(Polygon.amount_of_objects)\n",
    "\n"
   ]
  },
  {
   "attachments": {},
   "cell_type": "markdown",
   "metadata": {},
   "source": [
    "**Dynamické vlastnosti instance třídy**"
   ]
  },
  {
   "cell_type": "code",
   "execution_count": 43,
   "metadata": {},
   "outputs": [
    {
     "name": "stdout",
     "output_type": "stream",
     "text": [
      "Ahoj, já jsem trojúhelník a mám 3 hrany.\n",
      "3\n",
      "Ahoj, já jsem pravoúhlý trojúhelník a mám tři hrany.\n",
      "3\n"
     ]
    }
   ],
   "source": [
    "class Polygon:\n",
    "    '''\n",
    "    Třída polygon definuje obecný polygon o n hranách.\n",
    "    '''\n",
    "    \n",
    "    amount_of_objects = 0;\n",
    "    \n",
    "    def __init__(self, amount = 0):\n",
    "        Polygon.amount_of_objects += 1\n",
    "        self.amount_of_sides = amount\n",
    "\n",
    "    def __del__(self):\n",
    "        Polygon.amount_of_objects -= 1\n",
    "\n",
    "    def num_of_sides(self):\n",
    "        '''\n",
    "        Metoda zobrazi typ polygonu a počet hran.\n",
    "        '''\n",
    "        \n",
    "        pass\n",
    "\n",
    "class Triangle(Polygon):\n",
    "    \n",
    "    def num_of_sides(self):\n",
    "        print(f\"Ahoj, já jsem trojúhelník a mám {self.amount_of_sides} hrany.\")\n",
    "\n",
    "class Rectangular_Triangle(Triangle):\n",
    "    \n",
    "    def num_of_sides(self):\n",
    "        print(\"Ahoj, já jsem pravoúhlý trojúhelník a mám tři hrany.\")\n",
    "\n",
    "class Pentagon(Polygon):\n",
    "    \n",
    "    def num_of_sides(self):\n",
    "        print(\"Ahoj, já jsem pentagon a mám pět stran.\")\n",
    "\n",
    "my_triangle = Triangle(3)\n",
    "my_triangle.num_of_sides()\n",
    "print(my_triangle.amount_of_sides)\n",
    "\n",
    "my_rectangular_triangle = Rectangular_Triangle(3)\n",
    "my_rectangular_triangle.num_of_sides()\n",
    "print(my_rectangular_triangle.amount_of_sides)"
   ]
  },
  {
   "attachments": {},
   "cell_type": "markdown",
   "metadata": {},
   "source": [
    "**Zjednodušení řešení polygonu**\\\n",
    "**Gettery**"
   ]
  },
  {
   "cell_type": "code",
   "execution_count": 44,
   "metadata": {},
   "outputs": [
    {
     "name": "stdout",
     "output_type": "stream",
     "text": [
      "Ahoj, já jsem trojúhelník a počet mých hran je 3.\n",
      "Ahoj, já jsem osmiúhelník a počet mých hran je 8.\n"
     ]
    }
   ],
   "source": [
    "class Polygon:\n",
    "    '''\n",
    "    Třída polygon definuje obecný polygon o n hranách.\n",
    "    '''\n",
    "    \n",
    "    amount_of_objects = 0;\n",
    "    \n",
    "    def __init__(self, amount = 0, name = \"unknown\"):\n",
    "        Polygon.amount_of_objects += 1\n",
    "        self.amount_of_sides = amount\n",
    "        self.polygon_name = name\n",
    "\n",
    "    def __del__(self):\n",
    "        Polygon.amount_of_objects -= 1\n",
    "\n",
    "    def get_num_of_sides(self):\n",
    "        return self.amount_of_sides\n",
    "\n",
    "    def get_name(self):\n",
    "        return self.polygon_name\n",
    "\n",
    "    def __str__(self):\n",
    "        return f\"Ahoj, já jsem {self.polygon_name} a počet mých hran je {self.amount_of_sides}.\"\n",
    "        \n",
    "my_triangle = Polygon(3, \"trojúhelník\")\n",
    "print(my_triangle)\n",
    "\n",
    "my_octagon = Polygon(8, \"osmiúhelník\")\n",
    "print(my_octagon)"
   ]
  },
  {
   "attachments": {},
   "cell_type": "markdown",
   "metadata": {},
   "source": [
    "**Settery**"
   ]
  },
  {
   "cell_type": "code",
   "execution_count": 67,
   "metadata": {},
   "outputs": [
    {
     "name": "stdout",
     "output_type": "stream",
     "text": [
      "Ahoj, já jsem trojúhelník a počet mých hran je 3.\n",
      "Ahoj, já jsem osmiúhelník a počet mých hran je 8.\n",
      "Ahoj, já jsem pětiúhelník a počet mých hran je 5.\n",
      "Ahoj, já jsem šestiúhelník a počet mých hran je 7.\n"
     ]
    }
   ],
   "source": [
    "class Polygon:\n",
    "    '''\n",
    "    Třída polygon definuje obecný polygon o n hranách.\n",
    "    '''\n",
    "    \n",
    "    amount_of_objects = 0;\n",
    "    \n",
    "    def __init__(self, amount = 0, name = \"unknown\"):\n",
    "        Polygon.amount_of_objects += 1\n",
    "        self.amount_of_sides = amount\n",
    "        self.polygon_name = name\n",
    "\n",
    "    def __del__(self):\n",
    "        Polygon.amount_of_objects -= 1\n",
    "\n",
    "    def get_num_of_sides(self):\n",
    "        return self.amount_of_sides\n",
    "\n",
    "    def get_name(self):\n",
    "        return self.polygon_name\n",
    "    \n",
    "    def set_num_of_sides(self, amount):\n",
    "        self.amount_of_sides = amount\n",
    "\n",
    "    def set_name(self, name):\n",
    "        self.polygon_name = name\n",
    "        \n",
    "    def set_polygon(self, amount, name):\n",
    "        self.set_num_of_sides(amount)\n",
    "        self.set_name(name)\n",
    "\n",
    "    def __str__(self):\n",
    "        return f\"Ahoj, já jsem {self.polygon_name} a počet mých hran je {self.amount_of_sides}.\"\n",
    "        \n",
    "my_triangle = Polygon(3, \"trojúhelník\")\n",
    "print(my_triangle)\n",
    "\n",
    "my_octagon = Polygon(8, \"osmiúhelník\")\n",
    "print(my_octagon)\n",
    "\n",
    "my_polygon = Polygon(5, \"pětiúhelník\")\n",
    "print(my_polygon)\n",
    "\n",
    "my_polygon.set_polygon(6, \"šestiúhelník\")\n",
    "# velký špatný\n",
    "my_polygon.amount_of_sides = 7\n",
    "# ok\n",
    "my_polygon.set_num_of_sides(7)\n",
    "print(my_polygon)\n"
   ]
  },
  {
   "attachments": {},
   "cell_type": "markdown",
   "metadata": {},
   "source": [
    "Skrytí vlastností a metod instance třídy"
   ]
  },
  {
   "cell_type": "code",
   "execution_count": 68,
   "metadata": {},
   "outputs": [
    {
     "name": "stdout",
     "output_type": "stream",
     "text": [
      "Ahoj, já jsem trojúhelník a počet mých hran je 3.\n",
      "Ahoj, já jsem osmiúhelník a počet mých hran je 8.\n",
      "Ahoj, já jsem pětiúhelník a počet mých hran je 5.\n",
      "Ahoj, já jsem šestiúhelník a počet mých hran je 6.\n",
      "6\n",
      "šestiúhelník\n",
      "<class '__main__.Polygon'>\n"
     ]
    }
   ],
   "source": [
    "class Polygon:\n",
    "    '''\n",
    "    Třída polygon definuje obecný polygon o n hranách.\n",
    "    '''\n",
    "    \n",
    "    amount_of_objects = 0\n",
    "    \n",
    "    def __init__(self, amount = 0, name = \"unknown\"):\n",
    "        Polygon.amount_of_objects += 1\n",
    "        self.__amount_of_sides = amount\n",
    "        self.__polygon_name = name\n",
    "\n",
    "    def __del__(self):\n",
    "        Polygon.amount_of_objects -= 1\n",
    "\n",
    "    def get_num_of_sides(self):\n",
    "        return self.__amount_of_sides\n",
    "\n",
    "    def get_name(self):\n",
    "        return self.__polygon_name\n",
    "    \n",
    "    def __set_num_of_sides(self, amount):\n",
    "        self.__amount_of_sides = amount\n",
    "\n",
    "    def __set_name(self, name):\n",
    "        self.__polygon_name = name\n",
    "        \n",
    "    def set_polygon(self, amount, name):\n",
    "        self.__set_num_of_sides(amount)\n",
    "        self.__set_name(name)\n",
    "\n",
    "    def __str__(self):\n",
    "        return f\"Ahoj, já jsem {self.__polygon_name} a počet mých hran je {self.__amount_of_sides}.\"\n",
    "        \n",
    "my_triangle = Polygon(3, \"trojúhelník\")\n",
    "print(my_triangle)\n",
    "\n",
    "my_octagon = Polygon(8, \"osmiúhelník\")\n",
    "print(my_octagon)\n",
    "\n",
    "my_polygon = Polygon(5, \"pětiúhelník\")\n",
    "print(my_polygon)\n",
    "\n",
    "my_polygon.set_polygon(6, \"šestiúhelník\")\n",
    "# to nebude fungovat\n",
    "my_polygon.__amount_of_sides = 7\n",
    "print(my_polygon)\n",
    "print(my_polygon.get_num_of_sides())\n",
    "print(my_polygon.get_name())\n",
    "print(type(my_polygon))\n"
   ]
  }
 ],
 "metadata": {
  "kernelspec": {
   "display_name": "Python 3",
   "language": "python",
   "name": "python3"
  },
  "language_info": {
   "codemirror_mode": {
    "name": "ipython",
    "version": 3
   },
   "file_extension": ".py",
   "mimetype": "text/x-python",
   "name": "python",
   "nbconvert_exporter": "python",
   "pygments_lexer": "ipython3",
   "version": "3.10.4"
  },
  "orig_nbformat": 4
 },
 "nbformat": 4,
 "nbformat_minor": 2
}
