{
 "cells": [
  {
   "cell_type": "code",
   "execution_count": null,
   "metadata": {},
   "outputs": [],
   "source": [
    "class Shape:\n",
    "\n",
    "    def __init__(self, name):\n",
    "        self.name = name\n",
    " \n",
    "    def render(self):\n",
    "        pass\n",
    "\n",
    "class Square(Shape):\n",
    "    def render(self):\n",
    "        print(\"Rendering square...\")\n",
    "        \n",
    "class Triangle(Shape):\n",
    "    def render(self):\n",
    "        print(\"Rendering Triangle...\")\n",
    "\n",
    "class Circle(Shape):\n",
    "    def render(self):\n",
    "        print(\"Rendering Circle...\")\n"
   ]
  },
  {
   "cell_type": "code",
   "execution_count": 1,
   "metadata": {},
   "outputs": [
    {
     "ename": "TypeError",
     "evalue": "Can't instantiate abstract class Shape with abstract method render",
     "output_type": "error",
     "traceback": [
      "\u001b[1;31m---------------------------------------------------------------------------\u001b[0m",
      "\u001b[1;31mTypeError\u001b[0m                                 Traceback (most recent call last)",
      "\u001b[1;32mc:\\Users\\petr.kozak.SKOLAVDF\\Documents\\VSCodeProjects\\py3\\examples\\OOP\\tutorial\\U4_abstract_classes.ipynb Cell 2\u001b[0m line \u001b[0;36m1\n\u001b[0;32m      <a href='vscode-notebook-cell:/c%3A/Users/petr.kozak.SKOLAVDF/Documents/VSCodeProjects/py3/examples/OOP/tutorial/U4_abstract_classes.ipynb#W1sZmlsZQ%3D%3D?line=7'>8</a>\u001b[0m     \u001b[39m@abstractmethod\u001b[39m\n\u001b[0;32m      <a href='vscode-notebook-cell:/c%3A/Users/petr.kozak.SKOLAVDF/Documents/VSCodeProjects/py3/examples/OOP/tutorial/U4_abstract_classes.ipynb#W1sZmlsZQ%3D%3D?line=8'>9</a>\u001b[0m     \u001b[39mdef\u001b[39;00m \u001b[39mrender\u001b[39m(\u001b[39mself\u001b[39m):\n\u001b[0;32m     <a href='vscode-notebook-cell:/c%3A/Users/petr.kozak.SKOLAVDF/Documents/VSCodeProjects/py3/examples/OOP/tutorial/U4_abstract_classes.ipynb#W1sZmlsZQ%3D%3D?line=9'>10</a>\u001b[0m         \u001b[39mpass\u001b[39;00m\n\u001b[1;32m---> <a href='vscode-notebook-cell:/c%3A/Users/petr.kozak.SKOLAVDF/Documents/VSCodeProjects/py3/examples/OOP/tutorial/U4_abstract_classes.ipynb#W1sZmlsZQ%3D%3D?line=11'>12</a>\u001b[0m shape \u001b[39m=\u001b[39m Shape(\u001b[39m\"\u001b[39;49m\u001b[39mTriangle\u001b[39;49m\u001b[39m\"\u001b[39;49m)\n",
      "\u001b[1;31mTypeError\u001b[0m: Can't instantiate abstract class Shape with abstract method render"
     ]
    }
   ],
   "source": [
    "from abc import ABC, abstractmethod\n",
    "\n",
    "class Shape(ABC):\n",
    "\n",
    "    def __init__(self, name):\n",
    "        self.name = name\n",
    "\n",
    "    @abstractmethod\n",
    "    def render(self):\n",
    "        pass\n",
    "\n",
    "shape = Shape(\"Triangle\")"
   ]
  },
  {
   "cell_type": "code",
   "execution_count": 5,
   "metadata": {},
   "outputs": [
    {
     "name": "stdout",
     "output_type": "stream",
     "text": [
      "Rendering triangle... PIKACHU\n"
     ]
    }
   ],
   "source": [
    "from abc import ABC, abstractmethod\n",
    "\n",
    "class Shape(ABC):\n",
    "\n",
    "    def __init__(self, name):\n",
    "        self.name = name\n",
    "\n",
    "    @abstractmethod\n",
    "    def render(self):\n",
    "        pass\n",
    "\n",
    "class Triangle(Shape):\n",
    "\n",
    "    def render(self):\n",
    "        print(f\"Rendering triangle... {self.name}\")\n",
    "\n",
    "t = Triangle(\"PIKACHU\")\n",
    "t.render()\n"
   ]
  },
  {
   "cell_type": "code",
   "execution_count": 1,
   "metadata": {},
   "outputs": [
    {
     "name": "stdout",
     "output_type": "stream",
     "text": [
      "Brum brum brum\n",
      "Bear Teddy is moving forward ...\n",
      "Ninjaaaa\n",
      "Turtle Donatello is slowly moving forward ...\n",
      "U U A A\n",
      "Monkey Op is jumping from tree to tree ...\n"
     ]
    }
   ],
   "source": [
    "from abc import ABC, abstractmethod\n",
    "\n",
    "class Animal(ABC):\n",
    "\n",
    "    def __init__(self, name):\n",
    "        self.name = name\n",
    "\n",
    "    @abstractmethod\n",
    "    def sound(self):\n",
    "        pass\n",
    "\n",
    "    @abstractmethod\n",
    "    def move(self):\n",
    "        pass\n",
    "\n",
    "class Bear(Animal):\n",
    "\n",
    "    def sound(self):\n",
    "        print(f\"Brum brum brum\")\n",
    "\n",
    "    def move(self):\n",
    "        print(f\"Bear {self.name} is moving forward ...\")\n",
    "\n",
    "class Turtle(Animal):\n",
    "\n",
    "    def sound(self):\n",
    "        print(f\"Ninjaaaa\")\n",
    "\n",
    "    def move(self):\n",
    "        print(f\"Turtle {self.name} is slowly moving forward ...\")\n",
    "\n",
    "class Monkey(Animal):\n",
    "\n",
    "    def sound(self):\n",
    "        print(f\"U U A A\")\n",
    "\n",
    "    def move(self):\n",
    "        print(f\"Monkey {self.name} is jumping from tree to tree ...\")\n",
    "\n",
    "teddy = Bear(\"Teddy\")\n",
    "teddy.sound()\n",
    "teddy.move()\n",
    "\n",
    "donatello = Turtle(\"Donatello\")\n",
    "donatello.sound()\n",
    "donatello.move()\n",
    "\n",
    "op = Monkey(\"Op\")\n",
    "op.sound()\n",
    "op.move()\n"
   ]
  },
  {
   "cell_type": "code",
   "execution_count": 7,
   "metadata": {},
   "outputs": [
    {
     "name": "stdout",
     "output_type": "stream",
     "text": [
      "Ninjaaaa\n",
      "Turtle Donatello is slowly moving forward ...\n",
      "Ninjaaaa\n",
      "Turtle Rafaello is slowly moving forward ...\n",
      "Brum brum brum\n",
      "Bear Teddy is moving forward ...\n",
      "U U A A\n",
      "Monkey Op is jumping from tree to tree ...\n"
     ]
    }
   ],
   "source": [
    "from abc import ABC, abstractmethod\n",
    "\n",
    "class Animal(ABC):\n",
    "\n",
    "    def __init__(self, name):\n",
    "        self.name = name\n",
    "\n",
    "    @abstractmethod\n",
    "    def sound(self):\n",
    "        pass\n",
    "\n",
    "    @abstractmethod\n",
    "    def move(self):\n",
    "        pass\n",
    "\n",
    "class Bear(Animal):\n",
    "\n",
    "    def sound(self):\n",
    "        print(f\"Brum brum brum\")\n",
    "\n",
    "    def move(self):\n",
    "        print(f\"Bear {self.name} is moving forward ...\")\n",
    "\n",
    "class Turtle(Animal):\n",
    "\n",
    "    def sound(self):\n",
    "        print(f\"Ninjaaaa\")\n",
    "\n",
    "    def move(self):\n",
    "        print(f\"Turtle {self.name} is slowly moving forward ...\")\n",
    "\n",
    "class Monkey(Animal):\n",
    "\n",
    "    def sound(self):\n",
    "        print(f\"U U A A\")\n",
    "\n",
    "    def move(self):\n",
    "        print(f\"Monkey {self.name} is jumping from tree to tree ...\")\n",
    "\n",
    "class Zoo:\n",
    "    \n",
    "    animal = ['Bear', 'Turtle', 'Monkey']\n",
    "    @staticmethod\n",
    "    def newAnimal(type, name):\n",
    "        if  type in Zoo.animal:\n",
    "            return globals()[type](name)\n",
    "        else:\n",
    "            return None\n",
    "        \n",
    "zoo = []\n",
    "zoo.append(Zoo.newAnimal('Turtle', 'Donatello'))\n",
    "zoo.append(Zoo.newAnimal('Turtle', 'Rafaello'))\n",
    "zoo.append(Zoo.newAnimal('Bear', 'Teddy'))\n",
    "zoo.append(Zoo.newAnimal('Monkey', 'Op'))\n",
    "\n",
    "for i in zoo:\n",
    "    i.sound()\n",
    "    i.move()\n"
   ]
  }
 ],
 "metadata": {
  "kernelspec": {
   "display_name": "Python 3",
   "language": "python",
   "name": "python3"
  },
  "language_info": {
   "codemirror_mode": {
    "name": "ipython",
    "version": 3
   },
   "file_extension": ".py",
   "mimetype": "text/x-python",
   "name": "python",
   "nbconvert_exporter": "python",
   "pygments_lexer": "ipython3",
   "version": "3.12.1"
  }
 },
 "nbformat": 4,
 "nbformat_minor": 2
}
