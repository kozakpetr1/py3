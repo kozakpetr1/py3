{
 "cells": [
  {
   "cell_type": "markdown",
   "metadata": {},
   "source": [
    "# Návrhové vzory\n",
    "## Dekorátory\n",
    "### K funkci můžeme přistupovat jako k objektu."
   ]
  },
  {
   "cell_type": "code",
   "execution_count": 21,
   "metadata": {},
   "outputs": [
    {
     "name": "stdout",
     "output_type": "stream",
     "text": [
      "Oh my God!\n",
      "Oh my God again!\n"
     ]
    }
   ],
   "source": [
    "def shout_out(message): \n",
    "\treturn message.upper() \n",
    "\n",
    "print(shout_out('Oh my God!')) \n",
    "\n",
    "# objekt (funkce) yell je identický s objektem (funkcí) shout_out\n",
    "yell = shout_out \n",
    "\n",
    "print(yell('Oh my God again!')) "
   ]
  },
  {
   "cell_type": "markdown",
   "metadata": {},
   "source": [
    "### Funkce může být předávána jako argument jiné funkci."
   ]
  },
  {
   "cell_type": "code",
   "execution_count": 22,
   "metadata": {},
   "outputs": [
    {
     "name": "stdout",
     "output_type": "stream",
     "text": [
      "OH MY GOD!\n",
      "oh my god!\n"
     ]
    }
   ],
   "source": [
    "def shout_out(message): \n",
    "\treturn message.upper() \n",
    "\n",
    "def whisper(message): \n",
    "\treturn message.lower() \n",
    "\n",
    "def greet(func): \n",
    "\t# uchování funkce v proměnné \n",
    "\tgreeting = func(\"Oh my God!\") \n",
    "\tprint(greeting)\n",
    "\n",
    "greet(shout_out) # předání funkce jako argumentu\n",
    "greet(whisper) # předání funkce jako argumentu"
   ]
  },
  {
   "cell_type": "markdown",
   "metadata": {},
   "source": [
    "### Funkce může vrátit funkci."
   ]
  },
  {
   "cell_type": "code",
   "execution_count": null,
   "metadata": {},
   "outputs": [],
   "source": [
    "def create_adder(x): \n",
    "\tdef adder(y): \n",
    "\t\treturn x+y \n",
    "\n",
    "\treturn adder \n",
    "\n",
    "# Předání funkce (objektu)\n",
    "add_15 = create_adder(15) \n",
    "\n",
    "print(add_15(10)) \n"
   ]
  },
  {
   "cell_type": "markdown",
   "metadata": {},
   "source": [
    "### Dekorátory se používají k úpravě chování funkce nebo třídy. V dekorátorech se funkce předávají jako argument a následně se volají uvnitř funkce wrapper."
   ]
  },
  {
   "cell_type": "code",
   "execution_count": 23,
   "metadata": {},
   "outputs": [
    {
     "name": "stdout",
     "output_type": "stream",
     "text": [
      "A hoří hovno?\n",
      "Tati!\n",
      "A hoří hovno?\n",
      "Třeba velbloudí ano.\n"
     ]
    }
   ],
   "source": [
    "# definice dekorátoru\n",
    "def hello_decorator(func):\n",
    "\n",
    "\t# \"inner_func\" je wrapper funkce, v níž mohou být volány argumenty předané funkce \"func\"\n",
    "\tdef inner_func():\n",
    "\t\tprint(\"Tati!\")\n",
    "\n",
    "\t\t# volání předané funkce \"func\" uvnitř wrapperu \"before\"\n",
    "\t\tfunc()\n",
    "\n",
    "\t\tprint(\"Třeba velbloudí ano.\")\n",
    "\t\t\n",
    "\treturn inner_func\n",
    "\n",
    "# definice funkce, která bucde volána uvnitř wrapperu\n",
    "def function_to_be_used():\n",
    "\tprint(\"A hoří hovno?\")\n",
    "\n",
    "# tato funkce není volána uvnitř dekorátoru\n",
    "function_to_be_used()\n",
    "\n",
    "# předání 'function_to_be_used' dekorátoru k zajištění kontroly jejího chování\n",
    "function_to_be_used = hello_decorator(function_to_be_used)\n",
    "\n",
    "\"\"\"Alternativní zápis\n",
    "\n",
    "    @hello_decorator\n",
    "    function_to_be_used()\n",
    "\n",
    "\"\"\"\n",
    "\n",
    "# volání funkce uvnitř dekorátoru\n",
    "function_to_be_used()\n"
   ]
  },
  {
   "cell_type": "markdown",
   "metadata": {},
   "source": [
    "## Řetězení (vnořování) dekorátorů"
   ]
  },
  {
   "cell_type": "code",
   "execution_count": 20,
   "metadata": {},
   "outputs": [
    {
     "name": "stdout",
     "output_type": "stream",
     "text": [
      "200.0\n",
      "100.0\n"
     ]
    }
   ],
   "source": [
    "class Num:\n",
    "    \n",
    "    @staticmethod\n",
    "    def square(func):\n",
    "        def wrapper(arg):\n",
    "            return func(arg) ** 2\n",
    "        return wrapper \n",
    "        \n",
    "    @staticmethod\n",
    "    def half(func):\n",
    "        def wrapper(arg):\n",
    "            return func(arg) / 2\n",
    "        return wrapper\n",
    "    \n",
    "    @staticmethod\n",
    "    # calculate = half(square(calculate))\n",
    "    @half\n",
    "    @square\n",
    "    def calculate(n):\n",
    "        return n\n",
    "    \n",
    "    @staticmethod\n",
    "    #calculate2 = square(half(calculate2))\n",
    "    @square\n",
    "    @half\n",
    "    def calculate2(n):\n",
    "        return n\n",
    "\n",
    "print(Num.calculate(20)) # (20 ** 2) / 2\n",
    "print(Num.calculate2(20)) # (20 / 2) ** 2"
   ]
  },
  {
   "cell_type": "markdown",
   "metadata": {},
   "source": [
    "### Příklad\n",
    "Třída **M** slouží k provádění aritmetických a logických operací nad celými čísly. Dekorátor **check** tu slouží k ošetření vstupního argumentu statických metod třídy **M**, který musí být typu **int**."
   ]
  },
  {
   "cell_type": "code",
   "execution_count": 25,
   "metadata": {},
   "outputs": [
    {
     "name": "stdout",
     "output_type": "stream",
     "text": [
      "Součet cifer čísla 372 je 12.\n",
      "Je 8128 dokonalé číslo? True\n",
      "Je 379 prvočíslo? True\n",
      "Je 2100 přestupný rok? False\n"
     ]
    }
   ],
   "source": [
    "class M:\n",
    "\n",
    "    @staticmethod\n",
    "    def check(func):\n",
    "        def wrap(args):\n",
    "            if isinstance(args, int):\n",
    "                return func(args)\n",
    "            else:\n",
    "                raise Exception(\"This number is not an integer.\") \n",
    "        return wrap\n",
    "        \n",
    "    @staticmethod\n",
    "    @check\n",
    "    def abs(num) -> int:\n",
    "        return num if num > 0 else -num\n",
    "    \n",
    "    @staticmethod\n",
    "    @check\n",
    "    def isEven(num) -> bool:\n",
    "        return True if (num % 2) == 0 else False\n",
    "    \n",
    "    @staticmethod\n",
    "    @check\n",
    "    def isOdd(num) -> bool:\n",
    "        return not M.isEven(num)\n",
    "\n",
    "    @staticmethod\n",
    "    @check\n",
    "    def isPositive(num) -> bool:\n",
    "        return True if num == M.abs(num) else False\n",
    "\n",
    "    @staticmethod\n",
    "    @check\n",
    "    def isNegative(num) -> bool:\n",
    "        return not M.isPositive(num)\n",
    "    \n",
    "    @staticmethod\n",
    "    @check\n",
    "    def isPrimeNumber(num) -> bool:\n",
    "        if num < 2:\n",
    "            return False\n",
    "        for i in range(2, int(num**0.5) + 1):\n",
    "            if num % i == 0:\n",
    "                return False\n",
    "        return True\n",
    "        \n",
    "    @staticmethod\n",
    "    @check\n",
    "    def isLeapYear(num) -> bool:\n",
    "        if (num % 4 == 0 and num % 100 != 0) or (num % 400 == 0):\n",
    "            return True\n",
    "        else:\n",
    "            return False    \n",
    "    \n",
    "    @staticmethod\n",
    "    @check\n",
    "    def isPerfectNumber(num) -> bool:\n",
    "        abs_num = M.abs(num)\n",
    "        divisors_sum = sum(i for i in range(1, abs_num) if abs_num % i == 0)\n",
    "        return divisors_sum == abs_num\n",
    "    \n",
    "    @staticmethod\n",
    "    @check\n",
    "    def getSumOfDigits(num) -> int:\n",
    "        abs_num = M.abs(num)\n",
    "        digit_sum = sum(int(digit) for digit in str(abs_num))\n",
    "        return digit_sum\n",
    "    \n",
    "print(f\"Součet cifer čísla 372 je {M.getSumOfDigits(372)}.\")\n",
    "print(f\"Je 8128 dokonalé číslo? {M.isPerfectNumber(8128)}\")\n",
    "print(f\"Je 379 prvočíslo? {M.isPrimeNumber(379)}\")\n",
    "print(f\"Je 2100 přestupný rok? {M.isLeapYear(2100)}\")\n"
   ]
  },
  {
   "cell_type": "code",
   "execution_count": 27,
   "metadata": {},
   "outputs": [
    {
     "name": "stdout",
     "output_type": "stream",
     "text": [
      "GeeksforGeeks\n"
     ]
    },
    {
     "ename": "AttributeError",
     "evalue": "'Person' object has no attribute '_Person__name'",
     "output_type": "error",
     "traceback": [
      "\u001b[1;31m---------------------------------------------------------------------------\u001b[0m",
      "\u001b[1;31mAttributeError\u001b[0m                            Traceback (most recent call last)",
      "Cell \u001b[1;32mIn[27], line 36\u001b[0m\n\u001b[0;32m     33\u001b[0m \u001b[38;5;28;01mdel\u001b[39;00m p\u001b[38;5;241m.\u001b[39mname\n\u001b[0;32m     35\u001b[0m \u001b[38;5;66;03m# Vlastnost p.__name již neexistuje, nelze ji tedy zobrazit, což vyvolá výjimku\u001b[39;00m\n\u001b[1;32m---> 36\u001b[0m \u001b[38;5;28mprint\u001b[39m (\u001b[43mp\u001b[49m\u001b[38;5;241;43m.\u001b[39;49m\u001b[43mname\u001b[49m)\n",
      "Cell \u001b[1;32mIn[27], line 12\u001b[0m, in \u001b[0;36mPerson.name\u001b[1;34m(self)\u001b[0m\n\u001b[0;32m      9\u001b[0m \u001b[38;5;129m@property\u001b[39m\n\u001b[0;32m     10\u001b[0m \u001b[38;5;66;03m# getter metoda\u001b[39;00m\n\u001b[0;32m     11\u001b[0m \u001b[38;5;28;01mdef\u001b[39;00m \u001b[38;5;21mname\u001b[39m(\u001b[38;5;28mself\u001b[39m):\n\u001b[1;32m---> 12\u001b[0m     \u001b[38;5;28;01mreturn\u001b[39;00m \u001b[38;5;28;43mself\u001b[39;49m\u001b[38;5;241;43m.\u001b[39;49m\u001b[43m__name\u001b[49m\n",
      "\u001b[1;31mAttributeError\u001b[0m: 'Person' object has no attribute '_Person__name'"
     ]
    }
   ],
   "source": [
    "# Dekorátor @property slouží k umožnění přístupu k metodám setter, getter a deleter\n",
    "# jako k vlastnostem. \n",
    " \n",
    "class Person:\n",
    " \n",
    "    def __init__(self):\n",
    "        self.__name = ''\n",
    "     \n",
    "    @property\n",
    "    # getter metoda\n",
    "    def name(self):\n",
    "        return self.__name\n",
    "     \n",
    "    # setter metoda\n",
    "    @name.setter\n",
    "    def name(self, name):\n",
    "        self.__name = name\n",
    " \n",
    "    # deleter metoda\n",
    "    @name.deleter\n",
    "    def name(self):\n",
    "       del self.__name\n",
    " \n",
    "p = Person()\n",
    " \n",
    "# Nastavení privátní vlastnosti p.__name pomocí dekorátoru @property volajícímu setter metodu name\n",
    "p.name = 'GeeksforGeeks'\n",
    " \n",
    "# Zobrazení privátní vlastnosti p.__name\n",
    "print(p.name)\n",
    " \n",
    "# Odstranění privátní vlastrnosti p.__name \n",
    "del p.name\n",
    " \n",
    "# Vlastnost p.__name již neexistuje, nelze ji tedy zobrazit, což vyvolá výjimku\n",
    "print (p.name)"
   ]
  }
 ],
 "metadata": {
  "kernelspec": {
   "display_name": "Python 3",
   "language": "python",
   "name": "python3"
  },
  "language_info": {
   "codemirror_mode": {
    "name": "ipython",
    "version": 3
   },
   "file_extension": ".py",
   "mimetype": "text/x-python",
   "name": "python",
   "nbconvert_exporter": "python",
   "pygments_lexer": "ipython3",
   "version": "3.12.1"
  }
 },
 "nbformat": 4,
 "nbformat_minor": 2
}
