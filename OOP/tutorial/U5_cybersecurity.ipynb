{
 "cells": [
  {
   "cell_type": "markdown",
   "metadata": {},
   "source": [
    "# Bezpečná client-server komunikace v Pythonu\n",
    "1. Co je klient-server komunikace?\n",
    "2. Co jsou protokoly TCP a UDP?\n",
    "3. Co je socket?\n",
    "4. Co je thread?\n",
    "5. Co je kryptografie?"
   ]
  },
  {
   "cell_type": "markdown",
   "metadata": {},
   "source": [
    "## Klient-server komunikace\n",
    "**Klient–server** (anglicky client–server, výslovnost ) je síťová architektura, která odděluje klienta (často aplikaci s grafickým uživatelským rozhraním) a server, kteří spolu komunikují přes počítačovou síť. Klient–server aplikace obsahují jak klienta, tak i server. Alternativou architektury klient–server je peer-to-peer, kde spolu však komunikují počítače mezi sebou bez serveru.\n",
    "\n",
    "Klient–server popisuje vztah mezi dvěma počítačovými programy, v nichž první program, klient, žádá o služby jiný program zvaný server. Na tomto modelu je založen například přístup na **e-mail**, **Web**, přístup k **databázi** apod.\n",
    "\n",
    "Model klient-server se stal jedním z hlavních myšlenek síťové technologie. Tento model používá například většina obchodních či firemních aplikací, dále ho pak používají například i tyto internetové protokoly **HTTP**, **SMTP**, **Telnet**, **DNS**, apod.\n",
    "\n",
    "Interakce mezi klientem a serverem je často popisována pomocí sekvence schémat. Sekvenční diagramy jsou standardizovány v **Unified Modeling Language**.\n",
    "\n",
    "[Wikipedia.org](https://cs.wikipedia.org/wiki/Klient%E2%80%93server)"
   ]
  },
  {
   "cell_type": "code",
   "execution_count": null,
   "metadata": {},
   "outputs": [],
   "source": [
    "import socket\n",
    "\n",
    "def start_server():\n",
    "    # Vytvoření objektu socket\n",
    "    server_socket = socket.socket(socket.AF_INET, socket.SOCK_STREAM)\n",
    "\n",
    "    # Svázání socketu se specifickou adresou a komunikačním portem\n",
    "    server_address = ('127.0.0.1', 12345)\n",
    "    server_socket.bind(server_address)\n",
    "\n",
    "    # Naslouchání příchozím spojením\n",
    "    server_socket.listen(1)\n",
    "    print(f\"Server is listening on {server_address}\")\n",
    "\n",
    "    while True:\n",
    "        # Čekání na spojení\n",
    "        print(\"Waiting for a connection...\")\n",
    "        client_socket, client_address = server_socket.accept()\n",
    "        print(f\"Connection from {client_address}\")\n",
    "\n",
    "        try:\n",
    "            # Odeslání uvítací zprávy kientovi\n",
    "            welcome_message = \"Welcome to the server!\"\n",
    "            client_socket.sendall(welcome_message.encode())\n",
    "\n",
    "            # Příjem dat\n",
    "            while True:\n",
    "                data = client_socket.recv(1024)\n",
    "                if not data:\n",
    "                    break  # Žádná další data, ukončení loopu\n",
    "\n",
    "                # Odezva klientovi na přijatá data\n",
    "                print(f\"Received: {data.decode()}\")\n",
    "                client_socket.sendall(data)\n",
    "\n",
    "        finally:\n",
    "            # Ukončení spojení\n",
    "            print(\"Closing connection...\")\n",
    "            client_socket.close()\n",
    "\n",
    "if __name__ == \"__main__\":\n",
    "    start_server() # spuštění serveru"
   ]
  }
 ],
 "metadata": {
  "language_info": {
   "name": "python"
  }
 },
 "nbformat": 4,
 "nbformat_minor": 2
}
