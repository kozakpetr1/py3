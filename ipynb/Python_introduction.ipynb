{
 "cells": [
  {
   "attachments": {},
   "cell_type": "markdown",
   "metadata": {},
   "source": [
    "# Python 3\n",
    "#### **Python**: multiplatformní dynamický interpretovaný programovací jazyk\n",
    "#### **Autor**: Guido van Rossum\n",
    "#### **Kontrola datových typů**: dynamická\n",
    "#### **Paradigmata**: imperativní, funkcionální, oběktově orientované"
   ]
  },
  {
   "cell_type": "code",
   "execution_count": 7,
   "metadata": {},
   "outputs": [
    {
     "name": "stdout",
     "output_type": "stream",
     "text": [
      "Hello! My name is Python. I am based on ABC programming language. My daddy is Guido van Rossum.\n",
      "Hello! My name is Python. I am based on ABC programming language. My daddy is Guido van Rossum.\n",
      "Hello! My name is Python. I am based on ABC programming language. My daddy is Guido van Rossum.\n",
      "Hello! My name is Python. I am based on ABC programming language. My daddy is Guido van Rossum.\n",
      "Hello! My name is Python. I am based on ABC programming language. My daddy is Guido van Rossum.\n",
      "Hello! My name is Python. I am based on ABC programming language. My daddy is Guido van Rossum.\n"
     ]
    }
   ],
   "source": [
    "print(\"Hello! My name is Python. I am based on ABC programming language. My daddy is Guido van Rossum.\")\n",
    "print('Hello! My name is Python. I am based on ABC programming language. My daddy is Guido van Rossum.')\n",
    "introduction = \"Hello! My name is Python. I am based on ABC programming language. My daddy is Guido van Rossum.\"\n",
    "print(\"%s\" % introduction)\n",
    "print(\"{:s}\".format(introduction))\n",
    "print(f\"{introduction}\")"
   ]
  },
  {
   "attachments": {},
   "cell_type": "markdown",
   "metadata": {},
   "source": [
    "## Proměnné a dynamická kontrola datových typů"
   ]
  },
  {
   "cell_type": "code",
   "execution_count": null,
   "metadata": {},
   "outputs": [],
   "source": [
    "hello_world = \"Hello!\" # hello_world = str(\"Hello!\")\n",
    "print(hello_world)\n",
    "print(type(hello_world))\n",
    "\n",
    "hello_world = 43110 # hello_world = int(43110)\n",
    "print(hello_world)\n",
    "print(type(hello_world))\n",
    "\n",
    "hello_world = 43.110 # hello_world = float(43.110)\n",
    "print(hello_world)\n",
    "print(type(hello_world))"
   ]
  },
  {
   "attachments": {},
   "cell_type": "markdown",
   "metadata": {},
   "source": [
    "> ### Příklad\n",
    "> Napiš kód, který přiřadí proměnné pi hodnotu Ludolfova čísla 3.14159265358979 a zobraz hodnotu a typ proměnné.\n",
    ">   "
   ]
  },
  {
   "cell_type": "code",
   "execution_count": 2,
   "metadata": {},
   "outputs": [
    {
     "name": "stdout",
     "output_type": "stream",
     "text": [
      "3.14159265358979\n",
      "<class 'float'>\n"
     ]
    }
   ],
   "source": [
    "# Ludolfovo číslo"
   ]
  },
  {
   "attachments": {},
   "cell_type": "markdown",
   "metadata": {},
   "source": [
    "## Základní programovací paradigmata"
   ]
  },
  {
   "cell_type": "code",
   "execution_count": 9,
   "metadata": {},
   "outputs": [
    {
     "name": "stdout",
     "output_type": "stream",
     "text": [
      "9 9 9.0\n"
     ]
    }
   ],
   "source": [
    "import math as m\n",
    "\n",
    "x = 3 ** 2 # imperativní přístup\n",
    "y = pow(3, 2) # funkcionální přístup\n",
    "z = m.pow(3, 2) # objektově orientovaný přístup\n",
    "\n",
    "print (x, y, z)"
   ]
  },
  {
   "cell_type": "code",
   "execution_count": 9,
   "metadata": {},
   "outputs": [
    {
     "ename": "SyntaxError",
     "evalue": "invalid syntax (3339882582.py, line 6)",
     "output_type": "error",
     "traceback": [
      "\u001b[1;36m  Cell \u001b[1;32mIn[9], line 6\u001b[1;36m\u001b[0m\n\u001b[1;33m    Allice: Hello world!\u001b[0m\n\u001b[1;37m    ^\u001b[0m\n\u001b[1;31mSyntaxError\u001b[0m\u001b[1;31m:\u001b[0m invalid syntax\n"
     ]
    }
   ],
   "source": [
    "import iplantuml\n",
    "\n",
    "%%plantuml\n",
    "\n",
    "@startuml\n",
    "Alice: Hello world!\n",
    "Bob: This is defined on\n",
    "several **lines**;\n",
    "@enduml"
   ]
  }
 ],
 "metadata": {
  "kernelspec": {
   "display_name": "Python 3",
   "language": "python",
   "name": "python3"
  },
  "language_info": {
   "codemirror_mode": {
    "name": "ipython",
    "version": 3
   },
   "file_extension": ".py",
   "mimetype": "text/x-python",
   "name": "python",
   "nbconvert_exporter": "python",
   "pygments_lexer": "ipython3",
   "version": "3.10.4"
  },
  "orig_nbformat": 4
 },
 "nbformat": 4,
 "nbformat_minor": 2
}
