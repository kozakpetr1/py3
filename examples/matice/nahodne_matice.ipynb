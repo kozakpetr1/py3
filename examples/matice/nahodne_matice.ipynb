{
 "cells": [
  {
   "cell_type": "markdown",
   "id": "8eed5a48",
   "metadata": {},
   "source": [
    "# 🧪 5 způsobů naplnění `n x n` listu náhodnými čísly (0–10)"
   ]
  },
  {
   "cell_type": "code",
   "execution_count": null,
   "id": "b3e59b7a",
   "metadata": {},
   "outputs": [],
   "source": [
    "import random\n",
    "import numpy as np\n",
    "\n",
    "# Nastavení velikosti matice\n",
    "n = 5  # můžeš změnit podle potřeby\n"
   ]
  },
  {
   "cell_type": "markdown",
   "id": "56263d20",
   "metadata": {},
   "source": [
    "## 1. Vnořené `for` smyčky s `random.randint`"
   ]
  },
  {
   "cell_type": "code",
   "execution_count": null,
   "id": "98e049d4",
   "metadata": {},
   "outputs": [],
   "source": [
    "matrix1 = []\n",
    "for i in range(n):\n",
    "    row = []\n",
    "    for j in range(n):\n",
    "        row.append(random.randint(0, 10))\n",
    "    matrix1.append(row)\n",
    "matrix1"
   ]
  },
  {
   "cell_type": "markdown",
   "id": "490d8b2d",
   "metadata": {},
   "source": [
    "## 2. List comprehension"
   ]
  },
  {
   "cell_type": "code",
   "execution_count": null,
   "id": "6f51ee6d",
   "metadata": {},
   "outputs": [],
   "source": [
    "matrix2 = [[random.randint(0, 10) for _ in range(n)] for _ in range(n)]\n",
    "matrix2"
   ]
  },
  {
   "cell_type": "markdown",
   "id": "07d1c005",
   "metadata": {},
   "source": [
    "## 3. List comprehension + `random.choices`"
   ]
  },
  {
   "cell_type": "code",
   "execution_count": null,
   "id": "125598d8",
   "metadata": {},
   "outputs": [],
   "source": [
    "choices = list(range(11))  # 0 až 10\n",
    "matrix3 = [random.choices(choices, k=n) for _ in range(n)]\n",
    "matrix3"
   ]
  },
  {
   "cell_type": "markdown",
   "id": "5b9790dd",
   "metadata": {},
   "source": [
    "## 4. Použití knihovny NumPy"
   ]
  },
  {
   "cell_type": "code",
   "execution_count": null,
   "id": "2653c899",
   "metadata": {},
   "outputs": [],
   "source": [
    "matrix4 = np.random.randint(0, 11, size=(n, n)).tolist()\n",
    "matrix4"
   ]
  },
  {
   "cell_type": "markdown",
   "id": "1630057b",
   "metadata": {},
   "source": [
    "## 5. Použití `random.sample` s reshapingem"
   ]
  },
  {
   "cell_type": "code",
   "execution_count": null,
   "id": "58a0ca07",
   "metadata": {},
   "outputs": [],
   "source": [
    "# Funguje jen pokud n*n <= počet možných hodnot (zde 11)\n",
    "if n * n <= 11:\n",
    "    flat = random.sample(range(11), n * n)\n",
    "    matrix5 = [flat[i*n:(i+1)*n] for i in range(n)]\n",
    "else:\n",
    "    matrix5 = [[random.randint(0, 10) for _ in range(n)] for _ in range(n)]\n",
    "matrix5"
   ]
  }
 ],
 "metadata": {},
 "nbformat": 4,
 "nbformat_minor": 5
}
