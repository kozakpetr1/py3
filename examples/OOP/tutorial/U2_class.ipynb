{
 "cells": [
  {
   "attachments": {},
   "cell_type": "markdown",
   "metadata": {},
   "source": [
    "**Skládání**\\\n",
    "Instance třídy může obsahovat vlastnosti v podobě instance jiných tříd, např. úsečka SE SKLÁDÁ z bodů, resp. je definována dvěma krajními body. Úsečka NENÍ potomkem bodu.\n",
    "\n",
    "**Varianta 1**\\\n",
    "Body jako instance třídy jsou vytvořeny uvnitř instance úsečky při její inicializaci. Při zániku úsečky zaniknou i body."
   ]
  },
  {
   "cell_type": "code",
   "execution_count": 11,
   "metadata": {},
   "outputs": [
    {
     "name": "stdout",
     "output_type": "stream",
     "text": [
      "[1,-2]\n",
      "[1,3][4,0]\n",
      "4.24\n"
     ]
    }
   ],
   "source": [
    "import os\n",
    "import math\n",
    "\n",
    "clear = lambda: os.system('cls')\n",
    "\n",
    "class Point:\n",
    "    \n",
    "    def __init__(self, x=0, y=0):\n",
    "        self.__x = x\n",
    "        self.__y = y\n",
    "\n",
    "    def setCoords(self, x, y):\n",
    "        self.__x = x\n",
    "        self.__y = y\n",
    "\n",
    "    def getX(self):\n",
    "        return self.__x\n",
    "\n",
    "    def getY(self):\n",
    "        return self.__y\n",
    "\n",
    "    def getCoords(self):\n",
    "        return (self.getX(), self.getY())\n",
    "\n",
    "    def __str__(self):\n",
    "        return f\"[{self.getX()},{self.getY()}]\"\n",
    "    \n",
    "class LineSegment:\n",
    "\n",
    "    def __init__(self, u=0, v=0, x=0, y=0):\n",
    "        self.__a = Point(u, v) # vytvoření instance třídy Point\n",
    "        self.__b = Point(x, y) # vytvoření instance třídy Point\n",
    "    \n",
    "    def setLineSegmentCoords(self, u, v, x, y):\n",
    "        self.__a.setCoords(u, v)\n",
    "        self.__b.setCoords(x, y)\n",
    "\n",
    "    def __str__(self):\n",
    "        # return  f\"[{self.__a.getX()},{self.__a.getY()}][{self.__b.getX()},{self.__b.getY()}]\"\n",
    "        return f\"{self.__a}{self.__b}\"\n",
    "\n",
    "    def getLineSegmentLength(self):\n",
    "        return math.sqrt(math.pow(self.__a.getX() - self.__b.getX(), 2) + math.pow(self.__a.getY() - self.__b.getY(), 2))\n",
    "    \n",
    "clear()\n",
    "\n",
    "B = Point() # vytvoření bodu B jako instance třídy Point\n",
    "B.setCoords(1, -2) # nastavení souřadnic bodu B \n",
    "print(B) # volání magické metody __str__ objektu B\n",
    "\n",
    "U = LineSegment(1, 3, 4, -1)\n",
    "U.setLineSegmentCoords(1, 3, 4, 0)\n",
    "print(U)\n",
    "print(f\"{U.getLineSegmentLength():.2f}\")"
   ]
  },
  {
   "cell_type": "markdown",
   "metadata": {},
   "source": [
    "**Varianta 2**\\\n",
    "Body jako instance třídy jsou vytvořeny vně instance úsečky, existují nezávisle na instanci úsečky. Při zániku úsečky body nezaniknou."
   ]
  },
  {
   "cell_type": "code",
   "execution_count": 13,
   "metadata": {},
   "outputs": [
    {
     "name": "stdout",
     "output_type": "stream",
     "text": [
      "[1,3][4,0]\n",
      "[1,3]\n",
      "[4,0]\n",
      "4.24\n",
      "[1,3]\n",
      "[4,0]\n"
     ]
    }
   ],
   "source": [
    "import os\n",
    "import math\n",
    "\n",
    "clear = lambda: os.system('cls')\n",
    "\n",
    "class Point:\n",
    "    \n",
    "    def __init__(self, x=0, y=0):\n",
    "        self.__x = x\n",
    "        self.__y = y\n",
    "\n",
    "    def setCoords(self, x, y):\n",
    "        self.__x = x\n",
    "        self.__y = y\n",
    "\n",
    "    def getX(self):\n",
    "        return self.__x\n",
    "\n",
    "    def getY(self):\n",
    "        return self.__y\n",
    "\n",
    "    def getCoords(self):\n",
    "        return (self.getX(), self.getY())\n",
    "\n",
    "    def __str__(self):\n",
    "        return f\"[{self.getX()},{self.getY()}]\"\n",
    "    \n",
    "class LineSegment:\n",
    "\n",
    "    def __init__(self, A: Point, B: Point):\n",
    "        self.__a = A # vytvoření instance třídy Point\n",
    "        self.__b = B # vytvoření instance třídy Point\n",
    "    \n",
    "    def setLineSegmentCoords(self, u, v, x, y):\n",
    "        self.__a.setCoords(u, v)\n",
    "        self.__b.setCoords(x, y)\n",
    "\n",
    "    def __str__(self):\n",
    "        return  f\"[{self.__a.getX()},{self.__a.getY()}][{self.__b.getX()},{self.__b.getY()}]\"\n",
    "\n",
    "    def getLineSegmentLength(self):\n",
    "        return math.sqrt(math.pow(self.__a.getX() - self.__b.getX(), 2) + math.pow(self.__a.getY() - self.__b.getY(), 2))\n",
    "    \n",
    "clear()\n",
    "\n",
    "A = Point(1, 3)\n",
    "B = Point(4, -1)\n",
    "U = LineSegment(A, B)\n",
    "U.setLineSegmentCoords(1, 3, 4, 0)\n",
    "print(U)\n",
    "print(A)\n",
    "print(B)\n",
    "print(f\"{U.getLineSegmentLength():.2f}\")\n",
    "del U\n",
    "print(A)\n",
    "print(B)"
   ]
  }
 ],
 "metadata": {
  "kernelspec": {
   "display_name": "Python 3",
   "language": "python",
   "name": "python3"
  },
  "language_info": {
   "codemirror_mode": {
    "name": "ipython",
    "version": 3
   },
   "file_extension": ".py",
   "mimetype": "text/x-python",
   "name": "python",
   "nbconvert_exporter": "python",
   "pygments_lexer": "ipython3",
   "version": "3.10.4"
  },
  "orig_nbformat": 4
 },
 "nbformat": 4,
 "nbformat_minor": 2
}
