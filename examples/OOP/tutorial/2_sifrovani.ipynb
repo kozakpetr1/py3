{
 "cells": [
  {
   "attachments": {},
   "cell_type": "markdown",
   "metadata": {},
   "source": [
    "Šifrovátor-dešifrovátor-ovátor"
   ]
  },
  {
   "cell_type": "code",
   "execution_count": null,
   "metadata": {},
   "outputs": [],
   "source": [
    "class Cypher:\n",
    "    \n",
    "    def __init__(self, amount = 3):\n",
    "        self.__number_of_rails = amount\n",
    "    \n",
    "    def __transcript(self, open_text):\n",
    "        pass\n",
    "    \n",
    "    def encrypt(self, open_text):\n",
    "        self.__open_text = self.__transcript(open_text)\n",
    "        self.__text_len = len(self.__open_text)\n",
    "    \n",
    "    def decrypt(self, cypher_text):\n",
    "        self.__cypher_text = cypher_text\n",
    "        \n",
    "    def get_open_text(self):\n",
    "        pass\n",
    "    \n",
    "    def get_cypher_text(self):\n",
    "        pass\n",
    "    \n",
    "    def __str__(self):\n",
    "        pass"
   ]
  }
 ],
 "metadata": {
  "language_info": {
   "name": "python"
  },
  "orig_nbformat": 4
 },
 "nbformat": 4,
 "nbformat_minor": 2
}
