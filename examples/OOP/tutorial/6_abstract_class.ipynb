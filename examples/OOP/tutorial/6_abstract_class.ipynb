{
 "cells": [
  {
   "cell_type": "markdown",
   "metadata": {},
   "source": [
    "Vytvoř abstraktní třídu **Stationery** (papírnické zboží) se dvěma dynamickými vlastnostmi \\\n",
    "**name** (jméno zboží) a **price** (cena zboží) a dvěma abstraktními metodami **getInfo** (výpis\\\n",
    "informací o zboží) a **use** (použítí zboží ke konkrétnímu účelu, např. tužka ke kreslení).\\\n",
    "Vytvoř podtřídy **Pencil**, **Notebook** a **Rubber**, a pomocí návrhového vrozu **Factory** vytvoř\\\n",
    "statickou metodu **newArticle**, která bude vytvářet objekty těchto podtříd do\\\n",
    "globálního listu **goods**.\n"
   ]
  },
  {
   "cell_type": "code",
   "execution_count": 1,
   "metadata": {},
   "outputs": [
    {
     "name": "stdout",
     "output_type": "stream",
     "text": [
      "Jsem tužka AB za 7 Kč.\n",
      "Kreslím ...\n",
      "Jsem sešit A4 za 25 Kč.\n",
      "Je do mě psáno ...\n",
      "Jsem guma pryž za 9 Kč.\n",
      "Gumuju ...\n"
     ]
    }
   ],
   "source": [
    "from abc import ABC, abstractmethod\n",
    "\n",
    "class Stationery(ABC):\n",
    "    \n",
    "    def __init__(self, name, price):\n",
    "        self.name = name\n",
    "        self.price = price\n",
    "        \n",
    "    @abstractmethod\n",
    "    def getInfo(self):\n",
    "        pass\n",
    "    \n",
    "    @abstractmethod\n",
    "    def use(self):\n",
    "        pass\n",
    "    \n",
    "class Pencil(Stationery):\n",
    "\n",
    "    def getInfo(self):\n",
    "        print(f\"Jsem tužka {self.name} za {self.price} Kč.\")\n",
    "\n",
    "    def use(self):\n",
    "        print(\"Kreslím ...\")\n",
    "\n",
    "class Notebook(Stationery):\n",
    "\n",
    "    def getInfo(self):\n",
    "        print(f\"Jsem sešit {self.name} za {self.price} Kč.\")\n",
    "\n",
    "    def use(self):\n",
    "        print(\"Je do mě psáno ...\")\n",
    "    \n",
    "class Rubber(Stationery):\n",
    "\n",
    "    def getInfo(self):\n",
    "        print(f\"Jsem guma {self.name} za {self.price} Kč.\")\n",
    "\n",
    "    def use(self):\n",
    "        print(\"Gumuju ...\")\n",
    "\n",
    "class Store:\n",
    "    \n",
    "    article = ['Pencil', 'Notebook', 'Rubber']\n",
    "    \n",
    "    @staticmethod\n",
    "    def newArticle(type, name, price):\n",
    "        if type in Store.article:\n",
    "            return globals()[type](name, price)\n",
    "        else:\n",
    "            return None\n",
    "\n",
    "goods = []\n",
    "goods.append(Store.newArticle('Pencil', 'AB', '7'))\n",
    "goods.append(Store.newArticle('Notebook', 'A4', '25'))\n",
    "goods.append(Store.newArticle('Rubber', 'pryž', '9'))\n",
    "\n",
    "for i in goods:\n",
    "    i.getInfo() \n",
    "    i.use()"
   ]
  }
 ],
 "metadata": {
  "kernelspec": {
   "display_name": "Python 3",
   "language": "python",
   "name": "python3"
  },
  "language_info": {
   "codemirror_mode": {
    "name": "ipython",
    "version": 3
   },
   "file_extension": ".py",
   "mimetype": "text/x-python",
   "name": "python",
   "nbconvert_exporter": "python",
   "pygments_lexer": "ipython3",
   "version": "3.9.6"
  }
 },
 "nbformat": 4,
 "nbformat_minor": 2
}
