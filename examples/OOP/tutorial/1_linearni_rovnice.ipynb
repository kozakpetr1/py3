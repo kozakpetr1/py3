{
 "cells": [
  {
   "cell_type": "code",
   "execution_count": null,
   "metadata": {},
   "outputs": [],
   "source": []
  },
  {
   "cell_type": "code",
   "execution_count": 17,
   "metadata": {},
   "outputs": [
    {
     "ename": "SyntaxError",
     "evalue": "invalid syntax (2503814534.py, line 8)",
     "output_type": "error",
     "traceback": [
      "\u001b[1;36m  Cell \u001b[1;32mIn[17], line 8\u001b[1;36m\u001b[0m\n\u001b[1;33m    return (-self.b/self.a) if (self.a != 0) else\u001b[0m\n\u001b[1;37m                                                  ^\u001b[0m\n\u001b[1;31mSyntaxError\u001b[0m\u001b[1;31m:\u001b[0m invalid syntax\n"
     ]
    }
   ],
   "source": [
    "class LinearF:\n",
    "    \n",
    "    def __init__(self, a = 1, b = 0):\n",
    "        self.a = a\n",
    "        self.b = b\n",
    "    \n",
    "    def get_linear(self):\n",
    "        return -self.b/self.a\n",
    "    \n",
    "    def __str__(self):\n",
    "        try:\n",
    "            x = self.get_linear()\n",
    "        except:\n",
    "            return \"Chyba: Nejedná se o lineární rovnici, protože parametr a je roven 0.\"\n",
    "        else:\n",
    "            return f\"Řešením lineární rovnice ve tvaru {self.a}x + {self.b} = 0 je x = {x}.\"\n",
    "    \n",
    "l = LinearF(3, -15)\n",
    "print(l)\n",
    "\n",
    "k = LinearF(0, 5)\n",
    "print(k)"
   ]
  }
 ],
 "metadata": {
  "kernelspec": {
   "display_name": "Python 3",
   "language": "python",
   "name": "python3"
  },
  "language_info": {
   "codemirror_mode": {
    "name": "ipython",
    "version": 3
   },
   "file_extension": ".py",
   "mimetype": "text/x-python",
   "name": "python",
   "nbconvert_exporter": "python",
   "pygments_lexer": "ipython3",
   "version": "3.10.4"
  },
  "orig_nbformat": 4
 },
 "nbformat": 4,
 "nbformat_minor": 2
}
