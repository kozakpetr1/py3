{
 "cells": [
  {
   "cell_type": "code",
   "execution_count": null,
   "metadata": {},
   "outputs": [],
   "source": []
  },
  {
   "cell_type": "code",
   "execution_count": 16,
   "metadata": {},
   "outputs": [
    {
     "ename": "NameError",
     "evalue": "name 'null' is not defined",
     "output_type": "error",
     "traceback": [
      "\u001b[1;31m---------------------------------------------------------------------------\u001b[0m",
      "\u001b[1;31mNameError\u001b[0m                                 Traceback (most recent call last)",
      "Cell \u001b[1;32mIn[16], line 18\u001b[0m\n\u001b[0;32m     15\u001b[0m             \u001b[39mreturn\u001b[39;00m \u001b[39mf\u001b[39m\u001b[39m\"\u001b[39m\u001b[39mŘešením lineární rovnice ve tvaru \u001b[39m\u001b[39m{\u001b[39;00m\u001b[39mself\u001b[39m\u001b[39m.\u001b[39ma\u001b[39m}\u001b[39;00m\u001b[39mx + \u001b[39m\u001b[39m{\u001b[39;00m\u001b[39mself\u001b[39m\u001b[39m.\u001b[39mb\u001b[39m}\u001b[39;00m\u001b[39m = 0 je x = \u001b[39m\u001b[39m{\u001b[39;00mx\u001b[39m}\u001b[39;00m\u001b[39m.\u001b[39m\u001b[39m\"\u001b[39m\n\u001b[0;32m     17\u001b[0m l \u001b[39m=\u001b[39m LinearF(\u001b[39m3\u001b[39m, \u001b[39m-\u001b[39m\u001b[39m15\u001b[39m)\n\u001b[1;32m---> 18\u001b[0m \u001b[39mprint\u001b[39;49m(l)\n\u001b[0;32m     20\u001b[0m k \u001b[39m=\u001b[39m LinearF(\u001b[39m0\u001b[39m, \u001b[39m5\u001b[39m)\n\u001b[0;32m     21\u001b[0m \u001b[39mprint\u001b[39m(k)\n",
      "Cell \u001b[1;32mIn[16], line 12\u001b[0m, in \u001b[0;36mLinearF.__str__\u001b[1;34m(self)\u001b[0m\n\u001b[0;32m     10\u001b[0m \u001b[39mdef\u001b[39;00m \u001b[39m__str__\u001b[39m(\u001b[39mself\u001b[39m):\n\u001b[0;32m     11\u001b[0m     x \u001b[39m=\u001b[39m \u001b[39mself\u001b[39m\u001b[39m.\u001b[39mget_linear()\n\u001b[1;32m---> 12\u001b[0m     \u001b[39mif\u001b[39;00m (x \u001b[39m==\u001b[39m null):\n\u001b[0;32m     13\u001b[0m         \u001b[39mreturn\u001b[39;00m \u001b[39m\"\u001b[39m\u001b[39mChyba: Nejedná se o lineární rovnici, protože parametr a je roven 0.\u001b[39m\u001b[39m\"\u001b[39m\n\u001b[0;32m     14\u001b[0m     \u001b[39melse\u001b[39;00m:\n",
      "\u001b[1;31mNameError\u001b[0m: name 'null' is not defined"
     ]
    }
   ],
   "source": [
    "class LinearF:\n",
    "    \n",
    "    def __init__(self, a = 1, b = 0):\n",
    "        self.a = a\n",
    "        self.b = b\n",
    "    \n",
    "    def get_linear(self):\n",
    "        return (-self.b/self.a) if (self.a != 0) else \n",
    "    \n",
    "    def __str__(self):\n",
    "        x = self.get_linear()\n",
    "        if (x == null):\n",
    "            return \"Chyba: Nejedná se o lineární rovnici, protože parametr a je roven 0.\"\n",
    "        else:\n",
    "            return f\"Řešením lineární rovnice ve tvaru {self.a}x + {self.b} = 0 je x = {x}.\"\n",
    "    \n",
    "l = LinearF(3, -15)\n",
    "print(l)\n",
    "\n",
    "k = LinearF(0, 5)\n",
    "print(k)"
   ]
  }
 ],
 "metadata": {
  "kernelspec": {
   "display_name": "Python 3",
   "language": "python",
   "name": "python3"
  },
  "language_info": {
   "codemirror_mode": {
    "name": "ipython",
    "version": 3
   },
   "file_extension": ".py",
   "mimetype": "text/x-python",
   "name": "python",
   "nbconvert_exporter": "python",
   "pygments_lexer": "ipython3",
   "version": "3.10.4"
  },
  "orig_nbformat": 4
 },
 "nbformat": 4,
 "nbformat_minor": 2
}
