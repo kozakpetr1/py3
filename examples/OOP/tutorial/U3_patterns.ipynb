{
 "cells": [
  {
   "cell_type": "markdown",
   "metadata": {},
   "source": [
    "# Návrhový vzor (design pattern)\n",
    "- představuje **obecné řešení problému** při návrhu počítačových programů.\n",
    "- je **popisem řešení problému nebo šablona** pro řešení různých situací.\n",
    "- pro OOP popisuji **vztahy a interakce mezi třídami a objekty**.\n",
    "- je využíván v běžném životě - např. **renesanční architektura**.\n",
    "## Příklady návrhových vzorů\n",
    "viz [Návrhové vzory v Pythonu](https://www.tutorialspoint.com/python_design_patterns/index.htm)\n",
    "- Singleton\n",
    "- Facade\n",
    "- Factory\n",
    "- Builder\n",
    "- Prototype\n",
    "- Command\n",
    "- Adapter\n",
    "- Decorator\n",
    "- Proxy\n",
    "- Chain of Responsibility Pattern\n",
    "- Observer\n",
    "- State\n",
    "- Strategy\n",
    "- Template\n",
    "- Flyweight"
   ]
  }
 ],
 "metadata": {
  "language_info": {
   "name": "python"
  }
 },
 "nbformat": 4,
 "nbformat_minor": 2
}
