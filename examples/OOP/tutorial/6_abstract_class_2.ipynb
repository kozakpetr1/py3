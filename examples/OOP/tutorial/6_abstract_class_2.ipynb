{
 "cells": [
  {
   "cell_type": "markdown",
   "metadata": {},
   "source": [
    "Vytvoř abstraktní třídu **Coffee** se dvěma dynamickými vlastnostmi \\\n",
    "**size** (L a XL) a **price** (cena zboží) a abstraktní metodou **makeCoffee**.\\\n",
    "Vytvoř podtřídy **Ristretto**, **Cappucino** a **Espresso**, a pomocí návrhového vzoru\\\n",
    "**Factory** vytvoř třídu **Cafe** (kavárna) a statickou metodu **addToMenu**, která bude\\\n",
    "vytvářet objekty těchto podtříd do globálního listu **menu**. Z každé položky listu \"vyrob\"\\\n",
    "jednu kávu pomocí metody **makeCoffee**."
   ]
  },
  {
   "cell_type": "code",
   "execution_count": 3,
   "metadata": {},
   "outputs": [
    {
     "name": "stdout",
     "output_type": "stream",
     "text": [
      "Making S size ristretto for 2.50 Euro...\n",
      "Making L size cappucino for 2.30 Euro...\n",
      "Making XL size cappucino for 3.50 Euro...\n",
      "Making M size espresso for 2.50 Euro...\n"
     ]
    }
   ],
   "source": [
    "from abc import ABC, abstractclassmethod\n",
    "\n",
    "class Coffee(ABC):\n",
    "    \n",
    "    def __init__(self, size, price):\n",
    "        self.size = size\n",
    "        self.price = price\n",
    "    \n",
    "    @abstractclassmethod\n",
    "    def makeCoffee(self):\n",
    "        pass\n",
    "    \n",
    "class Ristretto(Coffee):\n",
    "    \n",
    "    def makeCoffee(self):\n",
    "        print(f\"Making {self.size} size ristretto for {self.price} Euro...\")\n",
    "\n",
    "class Cappucino(Coffee):\n",
    "    \n",
    "    def makeCoffee(self):\n",
    "        print(f\"Making {self.size} size cappucino for {self.price} Euro...\")\n",
    "\n",
    "class Espresso(Coffee):\n",
    "    \n",
    "    def makeCoffee(self):\n",
    "        print(f\"Making {self.size} size espresso for {self.price} Euro...\")\n",
    "\n",
    "class Cafe:\n",
    "    \n",
    "    type = ['Ristretto', 'Cappucino', 'Espresso']\n",
    "    \n",
    "    @staticmethod\n",
    "    def addToMenu(type, size, price):\n",
    "        if type in Cafe.type:\n",
    "            return globals()[type](size, price)\n",
    "        else:\n",
    "            return None\n",
    "\n",
    "menu = []\n",
    "\n",
    "menu.append(Cafe.addToMenu('Ristretto', 'S', '2.50'))\n",
    "menu.append(Cafe.addToMenu('Cappucino', 'L', '2.30'))\n",
    "menu.append(Cafe.addToMenu('Cappucino', 'XL', '3.50'))\n",
    "menu.append(Cafe.addToMenu('Espresso', 'M', '2.50'))\n",
    "\n",
    "for coffee in menu:\n",
    "    coffee.makeCoffee()\n"
   ]
  }
 ],
 "metadata": {
  "kernelspec": {
   "display_name": "Python 3",
   "language": "python",
   "name": "python3"
  },
  "language_info": {
   "codemirror_mode": {
    "name": "ipython",
    "version": 3
   },
   "file_extension": ".py",
   "mimetype": "text/x-python",
   "name": "python",
   "nbconvert_exporter": "python",
   "pygments_lexer": "ipython3",
   "version": "3.9.6"
  }
 },
 "nbformat": 4,
 "nbformat_minor": 2
}
