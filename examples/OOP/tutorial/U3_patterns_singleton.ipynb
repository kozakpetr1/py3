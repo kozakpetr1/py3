{
 "cells": [
  {
   "cell_type": "markdown",
   "metadata": {},
   "source": [
    "# Návrhové vzory\n",
    "## Singleton\n",
    "Singleton (česky jedináček nebo také unikát) je název pro návrhový vzor používaný při programování. Využijeme ho, když je potřeba, aby v celém programu existovala pouze jedna instance určité třídy. Návrhový vzor také poskytne globální přístupový bod k instanci.\n",
    "### Varianta 1"
   ]
  },
  {
   "cell_type": "code",
   "execution_count": null,
   "metadata": {},
   "outputs": [],
   "source": [
    "class Singleton:\n",
    "\n",
    "    pass"
   ]
  },
  {
   "cell_type": "code",
   "execution_count": null,
   "metadata": {},
   "outputs": [],
   "source": [
    "class Singleton:\n",
    "\n",
    "    pass\n",
    "\n",
    "obj_a = Singleton.getInstance()\n",
    "obj_b = Singleton.getInstance()"
   ]
  },
  {
   "cell_type": "code",
   "execution_count": null,
   "metadata": {},
   "outputs": [],
   "source": [
    "class Singleton:\n",
    "\n",
    "    __instance = None\n",
    "\n",
    "obj_a = Singleton.getInstance()\n",
    "obj_b = Singleton.getInstance()"
   ]
  },
  {
   "cell_type": "code",
   "execution_count": 26,
   "metadata": {},
   "outputs": [],
   "source": [
    "class Singleton:\n",
    "\n",
    "    __instance = None\n",
    "    \n",
    "    @staticmethod\n",
    "    def getInstance():\n",
    "        \n",
    "        if Singleton.__instance is None:\n",
    "            Singleton()\n",
    "        return Singleton.__instance\n",
    "    \n",
    "obj_a = Singleton.getInstance()\n",
    "obj_b = Singleton.getInstance()"
   ]
  },
  {
   "cell_type": "code",
   "execution_count": 30,
   "metadata": {},
   "outputs": [
    {
     "name": "stdout",
     "output_type": "stream",
     "text": [
      "<__main__.Singleton object at 0x0000013EDE6278B0> <__main__.Singleton object at 0x0000013EDE6278B0>\n"
     ]
    }
   ],
   "source": [
    "class Singleton:\n",
    "\n",
    "    __instance = None\n",
    "    \n",
    "    @staticmethod\n",
    "    def getInstance(): \n",
    "        if Singleton.__instance is None:\n",
    "            Singleton()\n",
    "        return Singleton.__instance\n",
    "    \n",
    "    def __init__(self):\n",
    "        if Singleton.__instance is not None:\n",
    "            raise Exception(\"Instance already exists!\")\n",
    "        else:\n",
    "            Singleton.__instance = self\n",
    "        \n",
    "obj_a = Singleton.getInstance()\n",
    "obj_b = Singleton.getInstance()\n",
    "# obj_c = Singleton() - tohle nebude fungovat\n",
    "print(obj_a, obj_b)"
   ]
  },
  {
   "cell_type": "code",
   "execution_count": 31,
   "metadata": {},
   "outputs": [
    {
     "name": "stdout",
     "output_type": "stream",
     "text": [
      "Object A: Value of property __x of <class '__main__.Singleton'> instance is now 0.\n",
      "Object B: Value of property __x of <class '__main__.Singleton'> instance is now 0.\n",
      "Object B: Value of property __x of <class '__main__.Singleton'> instance is now 5.\n"
     ]
    }
   ],
   "source": [
    "class Singleton:\n",
    "\n",
    "    __instance = None\n",
    "    \n",
    "    @staticmethod\n",
    "    def getInstance(): \n",
    "        if Singleton.__instance is None:\n",
    "            Singleton()\n",
    "        return Singleton.__instance\n",
    "    \n",
    "    def __init__(self, x = 0):\n",
    "        if Singleton.__instance is not None:\n",
    "            raise Exception(\"Instance already exists!\")\n",
    "        else:\n",
    "            Singleton.__instance = self\n",
    "            self.__x = x\n",
    "\n",
    "    def setX(self, x):\n",
    "        self.__x = x\n",
    "\n",
    "    def __str__(self):\n",
    "        return f\"Value of property __x of {type(self)} instance is now {self.__x}.\"\n",
    "                \n",
    "obj_a = Singleton.getInstance()\n",
    "obj_b = Singleton.getInstance()\n",
    "print(\"Object A:\" ,obj_a)\n",
    "print(\"Object B:\" ,obj_b)\n",
    "obj_a.setX(5) # nastavení hodnoty vlastnosti obj_a pomocí setteru\n",
    "print(\"Object B:\", obj_b)\n"
   ]
  },
  {
   "cell_type": "markdown",
   "metadata": {},
   "source": [
    "### Varianta 2"
   ]
  },
  {
   "cell_type": "code",
   "execution_count": 20,
   "metadata": {},
   "outputs": [
    {
     "name": "stdout",
     "output_type": "stream",
     "text": [
      "<__main__.Singleton object at 0x0000013EDE627580> <__main__.Singleton object at 0x0000013EDE627580>\n"
     ]
    }
   ],
   "source": [
    "class Singleton:\n",
    "    \n",
    "    __instance = None\n",
    "    \n",
    "    def __new__(cls):\n",
    "        if (cls.__instance is None):\n",
    "            cls.__instance = super(Singleton, cls).__new__(cls)\n",
    "        return cls.__instance\n",
    "\n",
    "obj_a = Singleton()\n",
    "obj_b = Singleton()\n",
    "print (obj_a, obj_b)"
   ]
  }
 ],
 "metadata": {
  "kernelspec": {
   "display_name": "Python 3",
   "language": "python",
   "name": "python3"
  },
  "language_info": {
   "codemirror_mode": {
    "name": "ipython",
    "version": 3
   },
   "file_extension": ".py",
   "mimetype": "text/x-python",
   "name": "python",
   "nbconvert_exporter": "python",
   "pygments_lexer": "ipython3",
   "version": "3.10.4"
  }
 },
 "nbformat": 4,
 "nbformat_minor": 2
}
