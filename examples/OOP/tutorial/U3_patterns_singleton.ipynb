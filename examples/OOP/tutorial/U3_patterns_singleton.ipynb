{
 "cells": [
  {
   "cell_type": "markdown",
   "metadata": {},
   "source": [
    "# Návrhové vzory\n",
    "## Singleton\n",
    "Singleton (česky jedináček nebo také unikát) je název pro návrhový vzor používaný při programování. Využijeme ho, když je potřeba, aby v celém programu existovala pouze jedna instance určité třídy. Návrhový vzor také poskytne globální přístupový bod k instanci.\n",
    "### Varianta 1"
   ]
  },
  {
   "cell_type": "code",
   "execution_count": null,
   "metadata": {},
   "outputs": [],
   "source": [
    "class Singleton:\n",
    "\n",
    "    pass"
   ]
  },
  {
   "cell_type": "code",
   "execution_count": null,
   "metadata": {},
   "outputs": [],
   "source": [
    "class Singleton:\n",
    "\n",
    "    pass\n",
    "\n",
    "obj_a = Singleton.getInstance()\n",
    "obj_b = Singleton.getInstance()"
   ]
  },
  {
   "cell_type": "code",
   "execution_count": null,
   "metadata": {},
   "outputs": [],
   "source": [
    "class Singleton:\n",
    "\n",
    "    __instance = None\n",
    "\n",
    "obj_a = Singleton.getInstance()\n",
    "obj_b = Singleton.getInstance()"
   ]
  },
  {
   "cell_type": "code",
   "execution_count": 26,
   "metadata": {},
   "outputs": [],
   "source": [
    "class Singleton:\n",
    "\n",
    "    __instance = None\n",
    "    \n",
    "    @staticmethod\n",
    "    def getInstance():\n",
    "        \n",
    "        if Singleton.__instance is None:\n",
    "            Singleton()\n",
    "        return Singleton.__instance\n",
    "    \n",
    "obj_a = Singleton.getInstance()\n",
    "obj_b = Singleton.getInstance()"
   ]
  },
  {
   "cell_type": "code",
   "execution_count": 28,
   "metadata": {},
   "outputs": [
    {
     "ename": "Exception",
     "evalue": "Instance already exists!",
     "output_type": "error",
     "traceback": [
      "\u001b[1;31m---------------------------------------------------------------------------\u001b[0m",
      "\u001b[1;31mException\u001b[0m                                 Traceback (most recent call last)",
      "\u001b[1;32mc:\\Users\\petr.kozak\\Documents\\VSCodeProjects\\py3\\examples\\OOP\\tutorial\\U3_patterns_singleton.ipynb Cell 6\u001b[0m line \u001b[0;36m1\n\u001b[0;32m     <a href='vscode-notebook-cell:/c%3A/Users/petr.kozak/Documents/VSCodeProjects/py3/examples/OOP/tutorial/U3_patterns_singleton.ipynb#W4sZmlsZQ%3D%3D?line=16'>17</a>\u001b[0m obj_a \u001b[39m=\u001b[39m Singleton\u001b[39m.\u001b[39mgetInstance()\n\u001b[0;32m     <a href='vscode-notebook-cell:/c%3A/Users/petr.kozak/Documents/VSCodeProjects/py3/examples/OOP/tutorial/U3_patterns_singleton.ipynb#W4sZmlsZQ%3D%3D?line=17'>18</a>\u001b[0m obj_b \u001b[39m=\u001b[39m Singleton\u001b[39m.\u001b[39mgetInstance()\n\u001b[1;32m---> <a href='vscode-notebook-cell:/c%3A/Users/petr.kozak/Documents/VSCodeProjects/py3/examples/OOP/tutorial/U3_patterns_singleton.ipynb#W4sZmlsZQ%3D%3D?line=18'>19</a>\u001b[0m obj_c \u001b[39m=\u001b[39m Singleton() \u001b[39m# this won't work\u001b[39;00m\n\u001b[0;32m     <a href='vscode-notebook-cell:/c%3A/Users/petr.kozak/Documents/VSCodeProjects/py3/examples/OOP/tutorial/U3_patterns_singleton.ipynb#W4sZmlsZQ%3D%3D?line=19'>20</a>\u001b[0m \u001b[39mprint\u001b[39m(obj_a, obj_b)\n",
      "\u001b[1;32mc:\\Users\\petr.kozak\\Documents\\VSCodeProjects\\py3\\examples\\OOP\\tutorial\\U3_patterns_singleton.ipynb Cell 6\u001b[0m line \u001b[0;36m1\n\u001b[0;32m     <a href='vscode-notebook-cell:/c%3A/Users/petr.kozak/Documents/VSCodeProjects/py3/examples/OOP/tutorial/U3_patterns_singleton.ipynb#W4sZmlsZQ%3D%3D?line=10'>11</a>\u001b[0m \u001b[39mdef\u001b[39;00m \u001b[39m__init__\u001b[39m(\u001b[39mself\u001b[39m):\n\u001b[0;32m     <a href='vscode-notebook-cell:/c%3A/Users/petr.kozak/Documents/VSCodeProjects/py3/examples/OOP/tutorial/U3_patterns_singleton.ipynb#W4sZmlsZQ%3D%3D?line=11'>12</a>\u001b[0m     \u001b[39mif\u001b[39;00m Singleton\u001b[39m.\u001b[39m__instance \u001b[39mis\u001b[39;00m \u001b[39mnot\u001b[39;00m \u001b[39mNone\u001b[39;00m:\n\u001b[1;32m---> <a href='vscode-notebook-cell:/c%3A/Users/petr.kozak/Documents/VSCodeProjects/py3/examples/OOP/tutorial/U3_patterns_singleton.ipynb#W4sZmlsZQ%3D%3D?line=12'>13</a>\u001b[0m         \u001b[39mraise\u001b[39;00m \u001b[39mException\u001b[39;00m(\u001b[39m\"\u001b[39m\u001b[39mInstance already exists!\u001b[39m\u001b[39m\"\u001b[39m)\n\u001b[0;32m     <a href='vscode-notebook-cell:/c%3A/Users/petr.kozak/Documents/VSCodeProjects/py3/examples/OOP/tutorial/U3_patterns_singleton.ipynb#W4sZmlsZQ%3D%3D?line=13'>14</a>\u001b[0m     \u001b[39melse\u001b[39;00m:\n\u001b[0;32m     <a href='vscode-notebook-cell:/c%3A/Users/petr.kozak/Documents/VSCodeProjects/py3/examples/OOP/tutorial/U3_patterns_singleton.ipynb#W4sZmlsZQ%3D%3D?line=14'>15</a>\u001b[0m         Singleton\u001b[39m.\u001b[39m__instance \u001b[39m=\u001b[39m \u001b[39mself\u001b[39m\n",
      "\u001b[1;31mException\u001b[0m: Instance already exists!"
     ]
    }
   ],
   "source": [
    "class Singleton:\n",
    "\n",
    "    __instance = None\n",
    "    \n",
    "    @staticmethod\n",
    "    def getInstance(): \n",
    "        if Singleton.__instance is None:\n",
    "            Singleton()\n",
    "        return Singleton.__instance\n",
    "    \n",
    "    def __init__(self):\n",
    "        if Singleton.__instance is not None:\n",
    "            raise Exception(\"Instance already exists!\")\n",
    "        else:\n",
    "            Singleton.__instance = self\n",
    "        \n",
    "obj_a = Singleton.getInstance()\n",
    "obj_b = Singleton.getInstance()\n",
    "# obj_c = Singleton() - this won't work\n",
    "print(obj_a, obj_b)"
   ]
  },
  {
   "cell_type": "code",
   "execution_count": 29,
   "metadata": {},
   "outputs": [
    {
     "name": "stdout",
     "output_type": "stream",
     "text": [
      "Object A: Value of property __x of <class '__main__.Singleton'> instance is now 0.\n",
      "Object B: Value of property __x of <class '__main__.Singleton'> instance is now 0.\n",
      "Object B: Value of property __x of <class '__main__.Singleton'> instance is now 5.\n"
     ]
    }
   ],
   "source": [
    "class Singleton:\n",
    "\n",
    "    __instance = None\n",
    "    \n",
    "    @staticmethod\n",
    "    def getInstance(): \n",
    "        if Singleton.__instance is None:\n",
    "            Singleton()\n",
    "        return Singleton.__instance\n",
    "    \n",
    "    def __init__(self, x = 0):\n",
    "        if Singleton.__instance is not None:\n",
    "            raise Exception(\"Instance already exists!\")\n",
    "        else:\n",
    "            Singleton.__instance = self\n",
    "            self.__x = x\n",
    "\n",
    "    def setX(self, x):\n",
    "        self.__x = x\n",
    "\n",
    "    def __str__(self):\n",
    "        return f\"Value of property __x of {type(self)} instance is now {self.__x}.\"\n",
    "                \n",
    "obj_a = Singleton.getInstance()\n",
    "obj_b = Singleton.getInstance()\n",
    "print(\"Object A:\" ,obj_a)\n",
    "print(\"Object B:\" ,obj_b)\n",
    "obj_a.setX(5) # setting obj_a property\n",
    "print(\"Object B:\", obj_b)\n"
   ]
  },
  {
   "cell_type": "markdown",
   "metadata": {},
   "source": [
    "### Varianta 2"
   ]
  },
  {
   "cell_type": "code",
   "execution_count": 20,
   "metadata": {},
   "outputs": [
    {
     "name": "stdout",
     "output_type": "stream",
     "text": [
      "<__main__.Singleton object at 0x0000013EDE627580> <__main__.Singleton object at 0x0000013EDE627580>\n"
     ]
    }
   ],
   "source": [
    "class Singleton:\n",
    "    \n",
    "    __instance = None\n",
    "    \n",
    "    def __new__(cls):\n",
    "        if (cls.__instance is None):\n",
    "            cls.__instance = super(Singleton, cls).__new__(cls)\n",
    "        return cls.__instance\n",
    "\n",
    "obj_a = Singleton()\n",
    "obj_b = Singleton()\n",
    "print (obj_a, obj_b)"
   ]
  }
 ],
 "metadata": {
  "kernelspec": {
   "display_name": "Python 3",
   "language": "python",
   "name": "python3"
  },
  "language_info": {
   "codemirror_mode": {
    "name": "ipython",
    "version": 3
   },
   "file_extension": ".py",
   "mimetype": "text/x-python",
   "name": "python",
   "nbconvert_exporter": "python",
   "pygments_lexer": "ipython3",
   "version": "3.10.4"
  }
 },
 "nbformat": 4,
 "nbformat_minor": 2
}
