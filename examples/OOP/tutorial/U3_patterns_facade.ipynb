{
 "cells": [
  {
   "cell_type": "markdown",
   "metadata": {},
   "source": [
    "# Návrhové vzory\n",
    "## Facade (fasáda)\n",
    "Třída Facade shromažďuje všechny systémové třídy, metody a poskytuje požadované\n",
    "smysluplné aplikační rozhraní."
   ]
  },
  {
   "cell_type": "code",
   "execution_count": 10,
   "metadata": {},
   "outputs": [
    {
     "data": {
      "text/plain": [
       "'All vegetables are chopped.All vegetables are boiled.All vegetables are mixed and fried.'"
      ]
     },
     "execution_count": 10,
     "metadata": {},
     "output_type": "execute_result"
    }
   ],
   "source": [
    "class Cook:\n",
    "    '''Class Facade '''\n",
    "    def __init__(self):\n",
    "        self.__cutter = Cutter()\n",
    "        self.__boiler = Boiler()\n",
    "        self.__frier = Frier()\n",
    "    \n",
    "    def prepareDish(self):\n",
    "        result = self.__cutter.cutVegetables()\n",
    "        result += self.__boiler.boilVegetables()\n",
    "        result += self.__frier.fry()\n",
    "        return result\n",
    "\n",
    "class Cutter:\n",
    "    ''' Subsystem class Cutter '''    \n",
    "    def cutVegetables(self):\n",
    "        return \"All vegetables are chopped.\"\n",
    "\n",
    "class Boiler:\n",
    "    ''' Subsystem class Boiler ''' \n",
    "    def boilVegetables(self):\n",
    "        return \"All vegetables are boiled.\"\n",
    "\n",
    "class Frier:\n",
    "    ''' Subsystem class Frier ''' \n",
    "    def fry(self):\n",
    "        return \"All vegetables are mixed and fried.\"\n",
    "\n",
    "''' Client '''\n",
    "cook_it = Cook()\n",
    "cook_it.prepareDish()"
   ]
  },
  {
   "cell_type": "code",
   "execution_count": 31,
   "metadata": {},
   "outputs": [
    {
     "name": "stdout",
     "output_type": "stream",
     "text": [
      "Mika Waltari: Egypťan Sinuhet\n",
      "Jaroslav Hašek: Dobrý voják Švejk\n",
      "Marquis de Sade: 120 dnů Sodomy\n",
      "Hugh Hefner: Playboy\n"
     ]
    }
   ],
   "source": [
    "class Library:\n",
    "\n",
    "    def __init__(self):\n",
    "        self.__book = []\n",
    "\n",
    "    def getAllBooks(self):\n",
    "        for b in self.__book:\n",
    "            print(b.getBook())        \n",
    "\n",
    "    def appendBooks(self, *args):\n",
    "        for b in args:\n",
    "            self.__book.append(Book(b[1], b[0]))\n",
    "    \n",
    "class Book:\n",
    "    \n",
    "    def __init__(self, name, author):\n",
    "        self.__name = name\n",
    "        self.__author = author       \n",
    "    \n",
    "    def setBook(self, name, author):\n",
    "        self.__name = name\n",
    "        self.__author = author\n",
    "    \n",
    "    def getBook(self):\n",
    "        return f\"{self.__author}: {self.__name}\"\n",
    "    \n",
    "lib = Library()\n",
    "lib.appendBooks([\"Mika Waltari\", \"Egypťan Sinuhet\"],[\"Jaroslav Hašek\", \"Dobrý voják Švejk\"])\n",
    "lib.appendBooks([\"Marquis de Sade\", \"120 dnů Sodomy\" ],[\"Hugh Hefner\", \"Playboy\"])\n",
    "lib.getAllBooks()\n"
   ]
  },
  {
   "cell_type": "code",
   "execution_count": null,
   "metadata": {},
   "outputs": [],
   "source": [
    "class"
   ]
  }
 ],
 "metadata": {
  "kernelspec": {
   "display_name": "Python 3",
   "language": "python",
   "name": "python3"
  },
  "language_info": {
   "codemirror_mode": {
    "name": "ipython",
    "version": 3
   },
   "file_extension": ".py",
   "mimetype": "text/x-python",
   "name": "python",
   "nbconvert_exporter": "python",
   "pygments_lexer": "ipython3",
   "version": "3.10.4"
  }
 },
 "nbformat": 4,
 "nbformat_minor": 2
}
